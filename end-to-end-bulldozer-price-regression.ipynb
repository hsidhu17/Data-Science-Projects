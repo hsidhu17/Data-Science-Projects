{
 "cells": [
  {
   "cell_type": "markdown",
   "metadata": {},
   "source": [
    "# Predicting the Sale Price of Bulldozers using Machine Learning\n",
    "\n",
    "In this notebook, we're going to go through an example machine learning project with the goal of predicting the sale price of bulldozers. \n",
    "\n",
    "## 1. Problem Definition\n",
    "\n",
    "> How well can we predict the future sale price of a bullsozer, given its characteristics and previous examples of how much similar bulldozers have been sold for?\n",
    "\n",
    "## 2. Data\n",
    "\n",
    "The data is downloaded from Kaggle Bluebook for Bulldozers Competition. \n",
    "\n",
    "There are three main datasets:\n",
    "\n",
    "* Train.csv is the training set, which contains data through the end of 2011.\n",
    "\n",
    "* Valid.csv is the validation set, which contains data from January 1, 2012 - April 30, 2012 You make predictions on this set throughout the majority of the competition. Your score on this set is used to create the public leaderboard.\n",
    "\n",
    "* Test.csv is the test set, which won't be released until the last week of the competition. It contains data from May 1, 2012 - November 2012. Your score on the test set determines your final rank for the competition.\n",
    "\n",
    "## 3. Evaluation\n",
    "\n",
    "The evaluation metric for this competition is the RMSLE (root mean squared log error) between the actual and predicted auction prices.\n",
    "\n",
    "The goal for most regression evaluation metrics is to minimize the error. For example, our goal for this project will be to build a machine learning model which minimises RSMLE> \n",
    "\n",
    "## 4. Features\n",
    "\n",
    "Kaggle provides a data dictionary: \n",
    "https://docs.google.com/spreadsheets/d/1eFEhVmWRA8E-AZie4mWHbKhQlK7VPm9_ZQQw3MswaeU/edit?usp=sharing\n"
   ]
  },
  {
   "cell_type": "code",
   "execution_count": 17,
   "metadata": {},
   "outputs": [],
   "source": [
    "import numpy as np\n",
    "import pandas as pd\n",
    "import matplotlib.pyplot as plt\n",
    "import sklearn"
   ]
  },
  {
   "cell_type": "code",
   "execution_count": 18,
   "metadata": {},
   "outputs": [],
   "source": [
    "# Import traning and validation sets\n",
    "df = pd.read_csv(\"data/bluebook-for-bulldozers/TrainandValid.csv\", \n",
    "                low_memory=False)"
   ]
  },
  {
   "cell_type": "code",
   "execution_count": 19,
   "metadata": {},
   "outputs": [
    {
     "name": "stdout",
     "output_type": "stream",
     "text": [
      "<class 'pandas.core.frame.DataFrame'>\n",
      "RangeIndex: 412698 entries, 0 to 412697\n",
      "Data columns (total 53 columns):\n",
      " #   Column                    Non-Null Count   Dtype  \n",
      "---  ------                    --------------   -----  \n",
      " 0   SalesID                   412698 non-null  int64  \n",
      " 1   SalePrice                 412698 non-null  float64\n",
      " 2   MachineID                 412698 non-null  int64  \n",
      " 3   ModelID                   412698 non-null  int64  \n",
      " 4   datasource                412698 non-null  int64  \n",
      " 5   auctioneerID              392562 non-null  float64\n",
      " 6   YearMade                  412698 non-null  int64  \n",
      " 7   MachineHoursCurrentMeter  147504 non-null  float64\n",
      " 8   UsageBand                 73670 non-null   object \n",
      " 9   saledate                  412698 non-null  object \n",
      " 10  fiModelDesc               412698 non-null  object \n",
      " 11  fiBaseModel               412698 non-null  object \n",
      " 12  fiSecondaryDesc           271971 non-null  object \n",
      " 13  fiModelSeries             58667 non-null   object \n",
      " 14  fiModelDescriptor         74816 non-null   object \n",
      " 15  ProductSize               196093 non-null  object \n",
      " 16  fiProductClassDesc        412698 non-null  object \n",
      " 17  state                     412698 non-null  object \n",
      " 18  ProductGroup              412698 non-null  object \n",
      " 19  ProductGroupDesc          412698 non-null  object \n",
      " 20  Drive_System              107087 non-null  object \n",
      " 21  Enclosure                 412364 non-null  object \n",
      " 22  Forks                     197715 non-null  object \n",
      " 23  Pad_Type                  81096 non-null   object \n",
      " 24  Ride_Control              152728 non-null  object \n",
      " 25  Stick                     81096 non-null   object \n",
      " 26  Transmission              188007 non-null  object \n",
      " 27  Turbocharged              81096 non-null   object \n",
      " 28  Blade_Extension           25983 non-null   object \n",
      " 29  Blade_Width               25983 non-null   object \n",
      " 30  Enclosure_Type            25983 non-null   object \n",
      " 31  Engine_Horsepower         25983 non-null   object \n",
      " 32  Hydraulics                330133 non-null  object \n",
      " 33  Pushblock                 25983 non-null   object \n",
      " 34  Ripper                    106945 non-null  object \n",
      " 35  Scarifier                 25994 non-null   object \n",
      " 36  Tip_Control               25983 non-null   object \n",
      " 37  Tire_Size                 97638 non-null   object \n",
      " 38  Coupler                   220679 non-null  object \n",
      " 39  Coupler_System            44974 non-null   object \n",
      " 40  Grouser_Tracks            44875 non-null   object \n",
      " 41  Hydraulics_Flow           44875 non-null   object \n",
      " 42  Track_Type                102193 non-null  object \n",
      " 43  Undercarriage_Pad_Width   102916 non-null  object \n",
      " 44  Stick_Length              102261 non-null  object \n",
      " 45  Thumb                     102332 non-null  object \n",
      " 46  Pattern_Changer           102261 non-null  object \n",
      " 47  Grouser_Type              102193 non-null  object \n",
      " 48  Backhoe_Mounting          80712 non-null   object \n",
      " 49  Blade_Type                81875 non-null   object \n",
      " 50  Travel_Controls           81877 non-null   object \n",
      " 51  Differential_Type         71564 non-null   object \n",
      " 52  Steering_Controls         71522 non-null   object \n",
      "dtypes: float64(3), int64(5), object(45)\n",
      "memory usage: 166.9+ MB\n"
     ]
    }
   ],
   "source": [
    "df.info()"
   ]
  },
  {
   "cell_type": "code",
   "execution_count": 20,
   "metadata": {},
   "outputs": [
    {
     "data": {
      "text/plain": [
       "SalesID                          0\n",
       "SalePrice                        0\n",
       "MachineID                        0\n",
       "ModelID                          0\n",
       "datasource                       0\n",
       "auctioneerID                 20136\n",
       "YearMade                         0\n",
       "MachineHoursCurrentMeter    265194\n",
       "UsageBand                   339028\n",
       "saledate                         0\n",
       "fiModelDesc                      0\n",
       "fiBaseModel                      0\n",
       "fiSecondaryDesc             140727\n",
       "fiModelSeries               354031\n",
       "fiModelDescriptor           337882\n",
       "ProductSize                 216605\n",
       "fiProductClassDesc               0\n",
       "state                            0\n",
       "ProductGroup                     0\n",
       "ProductGroupDesc                 0\n",
       "Drive_System                305611\n",
       "Enclosure                      334\n",
       "Forks                       214983\n",
       "Pad_Type                    331602\n",
       "Ride_Control                259970\n",
       "Stick                       331602\n",
       "Transmission                224691\n",
       "Turbocharged                331602\n",
       "Blade_Extension             386715\n",
       "Blade_Width                 386715\n",
       "Enclosure_Type              386715\n",
       "Engine_Horsepower           386715\n",
       "Hydraulics                   82565\n",
       "Pushblock                   386715\n",
       "Ripper                      305753\n",
       "Scarifier                   386704\n",
       "Tip_Control                 386715\n",
       "Tire_Size                   315060\n",
       "Coupler                     192019\n",
       "Coupler_System              367724\n",
       "Grouser_Tracks              367823\n",
       "Hydraulics_Flow             367823\n",
       "Track_Type                  310505\n",
       "Undercarriage_Pad_Width     309782\n",
       "Stick_Length                310437\n",
       "Thumb                       310366\n",
       "Pattern_Changer             310437\n",
       "Grouser_Type                310505\n",
       "Backhoe_Mounting            331986\n",
       "Blade_Type                  330823\n",
       "Travel_Controls             330821\n",
       "Differential_Type           341134\n",
       "Steering_Controls           341176\n",
       "dtype: int64"
      ]
     },
     "execution_count": 20,
     "metadata": {},
     "output_type": "execute_result"
    }
   ],
   "source": [
    "df.isna().sum()"
   ]
  },
  {
   "cell_type": "code",
   "execution_count": 21,
   "metadata": {},
   "outputs": [
    {
     "data": {
      "text/plain": [
       "<matplotlib.collections.PathCollection at 0x11b943730>"
      ]
     },
     "execution_count": 21,
     "metadata": {},
     "output_type": "execute_result"
    },
    {
     "data": {
      "image/png": "[encoded data removed]",
      "text/plain": [
       "<Figure size 432x288 with 1 Axes>"
      ]
     },
     "metadata": {
      "needs_background": "light"
     },
     "output_type": "display_data"
    }
   ],
   "source": [
    "fig, ax = plt.subplots()\n",
    "ax.scatter(df[\"saledate\"][:1000], df[\"SalePrice\"][:1000])"
   ]
  },
  {
   "cell_type": "code",
   "execution_count": 22,
   "metadata": {},
   "outputs": [
    {
     "data": {
      "text/plain": [
       "<matplotlib.axes._subplots.AxesSubplot at 0x118be4c40>"
      ]
     },
     "execution_count": 22,
     "metadata": {},
     "output_type": "execute_result"
    },
    {
     "data": {
      "image/png": "[encoded data removed]",
      "text/plain": [
       "<Figure size 432x288 with 1 Axes>"
      ]
     },
     "metadata": {
      "needs_background": "light"
     },
     "output_type": "display_data"
    }
   ],
   "source": [
    "df.SalePrice.plot.hist()"
   ]
  },
  {
   "cell_type": "markdown",
   "metadata": {},
   "source": [
    "### Parsing dates\n",
    "\n",
    "When we work with time series data, we want to enrich the time & date component as much as possible. \n",
    "\n",
    "We can do that by telling pandas which of our columns has dates in it using the 'parse_dates' parameters."
   ]
  },
  {
   "cell_type": "code",
   "execution_count": 23,
   "metadata": {},
   "outputs": [],
   "source": [
    "# Import data again but this time parse dates\n",
    "df = pd.read_csv(\"data/bluebook-for-bulldozers/TrainAndValid.csv\", \n",
    "                low_memory=False, \n",
    "                parse_dates=[\"saledate\"])"
   ]
  },
  {
   "cell_type": "code",
   "execution_count": 24,
   "metadata": {},
   "outputs": [
    {
     "data": {
      "text/plain": [
       "<matplotlib.collections.PathCollection at 0x117f6de50>"
      ]
     },
     "execution_count": 24,
     "metadata": {},
     "output_type": "execute_result"
    },
    {
     "data": {
      "image/png": "[encoded data removed]",
      "text/plain": [
       "<Figure size 432x288 with 1 Axes>"
      ]
     },
     "metadata": {
      "needs_background": "light"
     },
     "output_type": "display_data"
    }
   ],
   "source": [
    "fig, ax = plt.subplots()\n",
    "ax.scatter(df[\"saledate\"][:1000], df[\"SalePrice\"][:1000])"
   ]
  },
  {
   "cell_type": "markdown",
   "metadata": {},
   "source": [
    "### Sort DataFrame by saledate\n",
    "\n",
    "When working with time series data, it's a good idea to sort it by date"
   ]
  },
  {
   "cell_type": "code",
   "execution_count": 25,
   "metadata": {},
   "outputs": [
    {
     "data": {
      "text/plain": [
       "205615   1989-01-17\n",
       "274835   1989-01-31\n",
       "141296   1989-01-31\n",
       "212552   1989-01-31\n",
       "62755    1989-01-31\n",
       "54653    1989-01-31\n",
       "81383    1989-01-31\n",
       "204924   1989-01-31\n",
       "135376   1989-01-31\n",
       "113390   1989-01-31\n",
       "113394   1989-01-31\n",
       "116419   1989-01-31\n",
       "32138    1989-01-31\n",
       "127610   1989-01-31\n",
       "76171    1989-01-31\n",
       "127000   1989-01-31\n",
       "128130   1989-01-31\n",
       "127626   1989-01-31\n",
       "55455    1989-01-31\n",
       "55454    1989-01-31\n",
       "Name: saledate, dtype: datetime64[ns]"
      ]
     },
     "execution_count": 25,
     "metadata": {},
     "output_type": "execute_result"
    }
   ],
   "source": [
    "# Sort\n",
    "df.sort_values(by=[\"saledate\"], inplace=True, ascending=True)\n",
    "df.saledate.head(20)"
   ]
  },
  {
   "cell_type": "markdown",
   "metadata": {},
   "source": [
    "# We make a copy of the original DataFrame\n",
    "\n",
    "We make a copy of the original dataframe so when we manipulate the copy, we've still got our original"
   ]
  },
  {
   "cell_type": "code",
   "execution_count": 32,
   "metadata": {},
   "outputs": [],
   "source": [
    "# Make a copy\n",
    "df_tmp = df.copy()"
   ]
  },
  {
   "cell_type": "markdown",
   "metadata": {},
   "source": [
    "### Add datetime parameters for `saledate` column"
   ]
  },
  {
   "cell_type": "code",
   "execution_count": 33,
   "metadata": {},
   "outputs": [],
   "source": [
    "df_tmp[\"saleYear\"] = df_tmp.saledate.dt.year\n",
    "df_tmp[\"saleMonth\"] = df_tmp.saledate.dt.month\n",
    "df_tmp[\"saleDay\"] = df_tmp.saledate.dt.day\n",
    "df_tmp[\"saleDayofWeek\"] = df_tmp.saledate.dt.dayofweek\n",
    "df_tmp[\"saleDayofYear\"] = df_tmp.saledate.dt.dayofyear"
   ]
  },
  {
   "cell_type": "code",
   "execution_count": 34,
   "metadata": {},
   "outputs": [],
   "source": [
    "# Now we've enriched our DataFrame with date time features, we can remove saledate\n",
    "df_tmp.drop(\"saledate\", axis=1, inplace=True)"
   ]
  },
  {
   "cell_type": "code",
   "execution_count": 35,
   "metadata": {},
   "outputs": [
    {
     "data": {
      "text/plain": [
       "Florida           67320\n",
       "Texas             53110\n",
       "California        29761\n",
       "Washington        16222\n",
       "Georgia           14633\n",
       "Maryland          13322\n",
       "Mississippi       13240\n",
       "Ohio              12369\n",
       "Illinois          11540\n",
       "Colorado          11529\n",
       "New Jersey        11156\n",
       "North Carolina    10636\n",
       "Tennessee         10298\n",
       "Alabama           10292\n",
       "Pennsylvania      10234\n",
       "South Carolina     9951\n",
       "Arizona            9364\n",
       "New York           8639\n",
       "Connecticut        8276\n",
       "Minnesota          7885\n",
       "Missouri           7178\n",
       "Nevada             6932\n",
       "Louisiana          6627\n",
       "Kentucky           5351\n",
       "Maine              5096\n",
       "Indiana            4124\n",
       "Arkansas           3933\n",
       "New Mexico         3631\n",
       "Utah               3046\n",
       "Unspecified        2801\n",
       "Wisconsin          2745\n",
       "New Hampshire      2738\n",
       "Virginia           2353\n",
       "Idaho              2025\n",
       "Oregon             1911\n",
       "Michigan           1831\n",
       "Wyoming            1672\n",
       "Iowa               1336\n",
       "Montana            1336\n",
       "Oklahoma           1326\n",
       "Nebraska            866\n",
       "West Virginia       840\n",
       "Kansas              667\n",
       "Delaware            510\n",
       "North Dakota        480\n",
       "Alaska              430\n",
       "Massachusetts       347\n",
       "Vermont             300\n",
       "South Dakota        244\n",
       "Hawaii              118\n",
       "Rhode Island         83\n",
       "Puerto Rico          42\n",
       "Washington DC         2\n",
       "Name: state, dtype: int64"
      ]
     },
     "execution_count": 35,
     "metadata": {},
     "output_type": "execute_result"
    }
   ],
   "source": [
    "# Check the values of different columns\n",
    "df_tmp.state.value_counts()"
   ]
  },
  {
   "cell_type": "markdown",
   "metadata": {},
   "source": [
    "## 5. Modelling\n",
    "\n",
    "We've done enough EDA (we could always do more) but let's start to do some model-drive EDA. "
   ]
  },
  {
   "cell_type": "code",
   "execution_count": 37,
   "metadata": {},
   "outputs": [
    {
     "ename": "ValueError",
     "evalue": "could not convert string to float: 'Low'",
     "output_type": "error",
     "traceback": [
      "\u001b[0;31m---------------------------------------------------------------------------\u001b[0m",
      "\u001b[0;31mValueError\u001b[0m                                Traceback (most recent call last)",
      "\u001b[0;32m<ipython-input-37-d6e76f942fed>\u001b[0m in \u001b[0;36m<module>\u001b[0;34m\u001b[0m\n\u001b[1;32m      5\u001b[0m                              random_state=42)\n\u001b[1;32m      6\u001b[0m \u001b[0;34m\u001b[0m\u001b[0m\n\u001b[0;32m----> 7\u001b[0;31m \u001b[0mmodel\u001b[0m\u001b[0;34m.\u001b[0m\u001b[0mfit\u001b[0m\u001b[0;34m(\u001b[0m\u001b[0mdf_tmp\u001b[0m\u001b[0;34m.\u001b[0m\u001b[0mdrop\u001b[0m\u001b[0;34m(\u001b[0m\u001b[0;34m\"SalePrice\"\u001b[0m\u001b[0;34m,\u001b[0m \u001b[0maxis\u001b[0m\u001b[0;34m=\u001b[0m\u001b[0;36m1\u001b[0m\u001b[0;34m)\u001b[0m\u001b[0;34m,\u001b[0m \u001b[0mdf_tmp\u001b[0m\u001b[0;34m[\u001b[0m\u001b[0;34m\"SalePrice\"\u001b[0m\u001b[0;34m]\u001b[0m\u001b[0;34m)\u001b[0m\u001b[0;34m\u001b[0m\u001b[0;34m\u001b[0m\u001b[0m\n\u001b[0m",
      "\u001b[0;32m~/Desktop/ml_course/bulldozer-price-prediction-project/env/lib/python3.8/site-packages/sklearn/ensemble/_forest.py\u001b[0m in \u001b[0;36mfit\u001b[0;34m(self, X, y, sample_weight)\u001b[0m\n\u001b[1;32m    293\u001b[0m         \"\"\"\n\u001b[1;32m    294\u001b[0m         \u001b[0;31m# Validate or convert input data\u001b[0m\u001b[0;34m\u001b[0m\u001b[0;34m\u001b[0m\u001b[0;34m\u001b[0m\u001b[0m\n\u001b[0;32m--> 295\u001b[0;31m         \u001b[0mX\u001b[0m \u001b[0;34m=\u001b[0m \u001b[0mcheck_array\u001b[0m\u001b[0;34m(\u001b[0m\u001b[0mX\u001b[0m\u001b[0;34m,\u001b[0m \u001b[0maccept_sparse\u001b[0m\u001b[0;34m=\u001b[0m\u001b[0;34m\"csc\"\u001b[0m\u001b[0;34m,\u001b[0m \u001b[0mdtype\u001b[0m\u001b[0;34m=\u001b[0m\u001b[0mDTYPE\u001b[0m\u001b[0;34m)\u001b[0m\u001b[0;34m\u001b[0m\u001b[0;34m\u001b[0m\u001b[0m\n\u001b[0m\u001b[1;32m    296\u001b[0m         \u001b[0my\u001b[0m \u001b[0;34m=\u001b[0m \u001b[0mcheck_array\u001b[0m\u001b[0;34m(\u001b[0m\u001b[0my\u001b[0m\u001b[0;34m,\u001b[0m \u001b[0maccept_sparse\u001b[0m\u001b[0;34m=\u001b[0m\u001b[0;34m'csc'\u001b[0m\u001b[0;34m,\u001b[0m \u001b[0mensure_2d\u001b[0m\u001b[0;34m=\u001b[0m\u001b[0;32mFalse\u001b[0m\u001b[0;34m,\u001b[0m \u001b[0mdtype\u001b[0m\u001b[0;34m=\u001b[0m\u001b[0;32mNone\u001b[0m\u001b[0;34m)\u001b[0m\u001b[0;34m\u001b[0m\u001b[0;34m\u001b[0m\u001b[0m\n\u001b[1;32m    297\u001b[0m         \u001b[0;32mif\u001b[0m \u001b[0msample_weight\u001b[0m \u001b[0;32mis\u001b[0m \u001b[0;32mnot\u001b[0m \u001b[0;32mNone\u001b[0m\u001b[0;34m:\u001b[0m\u001b[0;34m\u001b[0m\u001b[0;34m\u001b[0m\u001b[0m\n",
      "\u001b[0;32m~/Desktop/ml_course/bulldozer-price-prediction-project/env/lib/python3.8/site-packages/sklearn/utils/validation.py\u001b[0m in \u001b[0;36mcheck_array\u001b[0;34m(array, accept_sparse, accept_large_sparse, dtype, order, copy, force_all_finite, ensure_2d, allow_nd, ensure_min_samples, ensure_min_features, warn_on_dtype, estimator)\u001b[0m\n\u001b[1;32m    529\u001b[0m                     \u001b[0marray\u001b[0m \u001b[0;34m=\u001b[0m \u001b[0marray\u001b[0m\u001b[0;34m.\u001b[0m\u001b[0mastype\u001b[0m\u001b[0;34m(\u001b[0m\u001b[0mdtype\u001b[0m\u001b[0;34m,\u001b[0m \u001b[0mcasting\u001b[0m\u001b[0;34m=\u001b[0m\u001b[0;34m\"unsafe\"\u001b[0m\u001b[0;34m,\u001b[0m \u001b[0mcopy\u001b[0m\u001b[0;34m=\u001b[0m\u001b[0;32mFalse\u001b[0m\u001b[0;34m)\u001b[0m\u001b[0;34m\u001b[0m\u001b[0;34m\u001b[0m\u001b[0m\n\u001b[1;32m    530\u001b[0m                 \u001b[0;32melse\u001b[0m\u001b[0;34m:\u001b[0m\u001b[0;34m\u001b[0m\u001b[0;34m\u001b[0m\u001b[0m\n\u001b[0;32m--> 531\u001b[0;31m                     \u001b[0marray\u001b[0m \u001b[0;34m=\u001b[0m \u001b[0mnp\u001b[0m\u001b[0;34m.\u001b[0m\u001b[0masarray\u001b[0m\u001b[0;34m(\u001b[0m\u001b[0marray\u001b[0m\u001b[0;34m,\u001b[0m \u001b[0morder\u001b[0m\u001b[0;34m=\u001b[0m\u001b[0morder\u001b[0m\u001b[0;34m,\u001b[0m \u001b[0mdtype\u001b[0m\u001b[0;34m=\u001b[0m\u001b[0mdtype\u001b[0m\u001b[0;34m)\u001b[0m\u001b[0;34m\u001b[0m\u001b[0;34m\u001b[0m\u001b[0m\n\u001b[0m\u001b[1;32m    532\u001b[0m             \u001b[0;32mexcept\u001b[0m \u001b[0mComplexWarning\u001b[0m\u001b[0;34m:\u001b[0m\u001b[0;34m\u001b[0m\u001b[0;34m\u001b[0m\u001b[0m\n\u001b[1;32m    533\u001b[0m                 raise ValueError(\"Complex data not supported\\n\"\n",
      "\u001b[0;32m~/Desktop/ml_course/bulldozer-price-prediction-project/env/lib/python3.8/site-packages/numpy/core/_asarray.py\u001b[0m in \u001b[0;36masarray\u001b[0;34m(a, dtype, order)\u001b[0m\n\u001b[1;32m     83\u001b[0m \u001b[0;34m\u001b[0m\u001b[0m\n\u001b[1;32m     84\u001b[0m     \"\"\"\n\u001b[0;32m---> 85\u001b[0;31m     \u001b[0;32mreturn\u001b[0m \u001b[0marray\u001b[0m\u001b[0;34m(\u001b[0m\u001b[0ma\u001b[0m\u001b[0;34m,\u001b[0m \u001b[0mdtype\u001b[0m\u001b[0;34m,\u001b[0m \u001b[0mcopy\u001b[0m\u001b[0;34m=\u001b[0m\u001b[0;32mFalse\u001b[0m\u001b[0;34m,\u001b[0m \u001b[0morder\u001b[0m\u001b[0;34m=\u001b[0m\u001b[0morder\u001b[0m\u001b[0;34m)\u001b[0m\u001b[0;34m\u001b[0m\u001b[0;34m\u001b[0m\u001b[0m\n\u001b[0m\u001b[1;32m     86\u001b[0m \u001b[0;34m\u001b[0m\u001b[0m\n\u001b[1;32m     87\u001b[0m \u001b[0;34m\u001b[0m\u001b[0m\n",
      "\u001b[0;31mValueError\u001b[0m: could not convert string to float: 'Low'"
     ]
    }
   ],
   "source": [
    "# Let's build a machine learning model\n",
    "from sklearn.ensemble import RandomForestRegressor\n",
    "\n",
    "model = RandomForestRegressor(n_jobs=-1, \n",
    "                             random_state=42)\n",
    "\n",
    "model.fit(df_tmp.drop(\"SalePrice\", axis=1), df_tmp[\"SalePrice\"])"
   ]
  },
  {
   "cell_type": "code",
   "execution_count": 38,
   "metadata": {},
   "outputs": [
    {
     "name": "stdout",
     "output_type": "stream",
     "text": [
      "<class 'pandas.core.frame.DataFrame'>\n",
      "Int64Index: 412698 entries, 205615 to 409203\n",
      "Data columns (total 53 columns):\n",
      " #   Column                    Non-Null Count   Dtype         \n",
      "---  ------                    --------------   -----         \n",
      " 0   SalesID                   412698 non-null  int64         \n",
      " 1   SalePrice                 412698 non-null  float64       \n",
      " 2   MachineID                 412698 non-null  int64         \n",
      " 3   ModelID                   412698 non-null  int64         \n",
      " 4   datasource                412698 non-null  int64         \n",
      " 5   auctioneerID              392562 non-null  float64       \n",
      " 6   YearMade                  412698 non-null  int64         \n",
      " 7   MachineHoursCurrentMeter  147504 non-null  float64       \n",
      " 8   UsageBand                 73670 non-null   object        \n",
      " 9   saledate                  412698 non-null  datetime64[ns]\n",
      " 10  fiModelDesc               412698 non-null  object        \n",
      " 11  fiBaseModel               412698 non-null  object        \n",
      " 12  fiSecondaryDesc           271971 non-null  object        \n",
      " 13  fiModelSeries             58667 non-null   object        \n",
      " 14  fiModelDescriptor         74816 non-null   object        \n",
      " 15  ProductSize               196093 non-null  object        \n",
      " 16  fiProductClassDesc        412698 non-null  object        \n",
      " 17  state                     412698 non-null  object        \n",
      " 18  ProductGroup              412698 non-null  object        \n",
      " 19  ProductGroupDesc          412698 non-null  object        \n",
      " 20  Drive_System              107087 non-null  object        \n",
      " 21  Enclosure                 412364 non-null  object        \n",
      " 22  Forks                     197715 non-null  object        \n",
      " 23  Pad_Type                  81096 non-null   object        \n",
      " 24  Ride_Control              152728 non-null  object        \n",
      " 25  Stick                     81096 non-null   object        \n",
      " 26  Transmission              188007 non-null  object        \n",
      " 27  Turbocharged              81096 non-null   object        \n",
      " 28  Blade_Extension           25983 non-null   object        \n",
      " 29  Blade_Width               25983 non-null   object        \n",
      " 30  Enclosure_Type            25983 non-null   object        \n",
      " 31  Engine_Horsepower         25983 non-null   object        \n",
      " 32  Hydraulics                330133 non-null  object        \n",
      " 33  Pushblock                 25983 non-null   object        \n",
      " 34  Ripper                    106945 non-null  object        \n",
      " 35  Scarifier                 25994 non-null   object        \n",
      " 36  Tip_Control               25983 non-null   object        \n",
      " 37  Tire_Size                 97638 non-null   object        \n",
      " 38  Coupler                   220679 non-null  object        \n",
      " 39  Coupler_System            44974 non-null   object        \n",
      " 40  Grouser_Tracks            44875 non-null   object        \n",
      " 41  Hydraulics_Flow           44875 non-null   object        \n",
      " 42  Track_Type                102193 non-null  object        \n",
      " 43  Undercarriage_Pad_Width   102916 non-null  object        \n",
      " 44  Stick_Length              102261 non-null  object        \n",
      " 45  Thumb                     102332 non-null  object        \n",
      " 46  Pattern_Changer           102261 non-null  object        \n",
      " 47  Grouser_Type              102193 non-null  object        \n",
      " 48  Backhoe_Mounting          80712 non-null   object        \n",
      " 49  Blade_Type                81875 non-null   object        \n",
      " 50  Travel_Controls           81877 non-null   object        \n",
      " 51  Differential_Type         71564 non-null   object        \n",
      " 52  Steering_Controls         71522 non-null   object        \n",
      "dtypes: datetime64[ns](1), float64(3), int64(5), object(44)\n",
      "memory usage: 170.0+ MB\n"
     ]
    }
   ],
   "source": [
    "df.info()"
   ]
  },
  {
   "cell_type": "markdown",
   "metadata": {},
   "source": [
    " Data is missing and some data isn't numeric"
   ]
  },
  {
   "cell_type": "markdown",
   "metadata": {},
   "source": [
    "## Convert strings to categories\n",
    "\n",
    "One way we can turn all of our data into numbers is by converting them into pandas categories"
   ]
  },
  {
   "cell_type": "code",
   "execution_count": 45,
   "metadata": {},
   "outputs": [
    {
     "data": {
      "text/html": [
       "<div>\n",
       "<style scoped>\n",
       "    .dataframe tbody tr th:only-of-type {\n",
       "        vertical-align: middle;\n",
       "    }\n",
       "\n",
       "    .dataframe tbody tr th {\n",
       "        vertical-align: top;\n",
       "    }\n",
       "\n",
       "    .dataframe thead th {\n",
       "        text-align: right;\n",
       "    }\n",
       "</style>\n",
       "<table border=\"1\" class=\"dataframe\">\n",
       "  <thead>\n",
       "    <tr style=\"text-align: right;\">\n",
       "      <th></th>\n",
       "      <th>SalesID</th>\n",
       "      <th>SalePrice</th>\n",
       "      <th>MachineID</th>\n",
       "      <th>ModelID</th>\n",
       "      <th>datasource</th>\n",
       "      <th>auctioneerID</th>\n",
       "      <th>YearMade</th>\n",
       "      <th>MachineHoursCurrentMeter</th>\n",
       "      <th>UsageBand</th>\n",
       "      <th>fiModelDesc</th>\n",
       "      <th>...</th>\n",
       "      <th>Backhoe_Mounting</th>\n",
       "      <th>Blade_Type</th>\n",
       "      <th>Travel_Controls</th>\n",
       "      <th>Differential_Type</th>\n",
       "      <th>Steering_Controls</th>\n",
       "      <th>saleYear</th>\n",
       "      <th>saleMonth</th>\n",
       "      <th>saleDay</th>\n",
       "      <th>saleDayofWeek</th>\n",
       "      <th>saleDayofYear</th>\n",
       "    </tr>\n",
       "  </thead>\n",
       "  <tbody>\n",
       "    <tr>\n",
       "      <th>205615</th>\n",
       "      <td>1646770</td>\n",
       "      <td>9500.0</td>\n",
       "      <td>1126363</td>\n",
       "      <td>8434</td>\n",
       "      <td>132</td>\n",
       "      <td>18.0</td>\n",
       "      <td>1974</td>\n",
       "      <td>NaN</td>\n",
       "      <td>NaN</td>\n",
       "      <td>TD20</td>\n",
       "      <td>...</td>\n",
       "      <td>None or Unspecified</td>\n",
       "      <td>Straight</td>\n",
       "      <td>None or Unspecified</td>\n",
       "      <td>NaN</td>\n",
       "      <td>NaN</td>\n",
       "      <td>1989</td>\n",
       "      <td>1</td>\n",
       "      <td>17</td>\n",
       "      <td>1</td>\n",
       "      <td>17</td>\n",
       "    </tr>\n",
       "    <tr>\n",
       "      <th>274835</th>\n",
       "      <td>1821514</td>\n",
       "      <td>14000.0</td>\n",
       "      <td>1194089</td>\n",
       "      <td>10150</td>\n",
       "      <td>132</td>\n",
       "      <td>99.0</td>\n",
       "      <td>1980</td>\n",
       "      <td>NaN</td>\n",
       "      <td>NaN</td>\n",
       "      <td>A66</td>\n",
       "      <td>...</td>\n",
       "      <td>NaN</td>\n",
       "      <td>NaN</td>\n",
       "      <td>NaN</td>\n",
       "      <td>Standard</td>\n",
       "      <td>Conventional</td>\n",
       "      <td>1989</td>\n",
       "      <td>1</td>\n",
       "      <td>31</td>\n",
       "      <td>1</td>\n",
       "      <td>31</td>\n",
       "    </tr>\n",
       "    <tr>\n",
       "      <th>141296</th>\n",
       "      <td>1505138</td>\n",
       "      <td>50000.0</td>\n",
       "      <td>1473654</td>\n",
       "      <td>4139</td>\n",
       "      <td>132</td>\n",
       "      <td>99.0</td>\n",
       "      <td>1978</td>\n",
       "      <td>NaN</td>\n",
       "      <td>NaN</td>\n",
       "      <td>D7G</td>\n",
       "      <td>...</td>\n",
       "      <td>None or Unspecified</td>\n",
       "      <td>Straight</td>\n",
       "      <td>None or Unspecified</td>\n",
       "      <td>NaN</td>\n",
       "      <td>NaN</td>\n",
       "      <td>1989</td>\n",
       "      <td>1</td>\n",
       "      <td>31</td>\n",
       "      <td>1</td>\n",
       "      <td>31</td>\n",
       "    </tr>\n",
       "    <tr>\n",
       "      <th>212552</th>\n",
       "      <td>1671174</td>\n",
       "      <td>16000.0</td>\n",
       "      <td>1327630</td>\n",
       "      <td>8591</td>\n",
       "      <td>132</td>\n",
       "      <td>99.0</td>\n",
       "      <td>1980</td>\n",
       "      <td>NaN</td>\n",
       "      <td>NaN</td>\n",
       "      <td>A62</td>\n",
       "      <td>...</td>\n",
       "      <td>NaN</td>\n",
       "      <td>NaN</td>\n",
       "      <td>NaN</td>\n",
       "      <td>Standard</td>\n",
       "      <td>Conventional</td>\n",
       "      <td>1989</td>\n",
       "      <td>1</td>\n",
       "      <td>31</td>\n",
       "      <td>1</td>\n",
       "      <td>31</td>\n",
       "    </tr>\n",
       "    <tr>\n",
       "      <th>62755</th>\n",
       "      <td>1329056</td>\n",
       "      <td>22000.0</td>\n",
       "      <td>1336053</td>\n",
       "      <td>4089</td>\n",
       "      <td>132</td>\n",
       "      <td>99.0</td>\n",
       "      <td>1984</td>\n",
       "      <td>NaN</td>\n",
       "      <td>NaN</td>\n",
       "      <td>D3B</td>\n",
       "      <td>...</td>\n",
       "      <td>None or Unspecified</td>\n",
       "      <td>PAT</td>\n",
       "      <td>Lever</td>\n",
       "      <td>NaN</td>\n",
       "      <td>NaN</td>\n",
       "      <td>1989</td>\n",
       "      <td>1</td>\n",
       "      <td>31</td>\n",
       "      <td>1</td>\n",
       "      <td>31</td>\n",
       "    </tr>\n",
       "  </tbody>\n",
       "</table>\n",
       "<p>5 rows × 57 columns</p>\n",
       "</div>"
      ],
      "text/plain": [
       "        SalesID  SalePrice  MachineID  ModelID  datasource  auctioneerID  \\\n",
       "205615  1646770     9500.0    1126363     8434         132          18.0   \n",
       "274835  1821514    14000.0    1194089    10150         132          99.0   \n",
       "141296  1505138    50000.0    1473654     4139         132          99.0   \n",
       "212552  1671174    16000.0    1327630     8591         132          99.0   \n",
       "62755   1329056    22000.0    1336053     4089         132          99.0   \n",
       "\n",
       "        YearMade  MachineHoursCurrentMeter UsageBand fiModelDesc  ...  \\\n",
       "205615      1974                       NaN       NaN        TD20  ...   \n",
       "274835      1980                       NaN       NaN         A66  ...   \n",
       "141296      1978                       NaN       NaN         D7G  ...   \n",
       "212552      1980                       NaN       NaN         A62  ...   \n",
       "62755       1984                       NaN       NaN         D3B  ...   \n",
       "\n",
       "           Backhoe_Mounting Blade_Type      Travel_Controls Differential_Type  \\\n",
       "205615  None or Unspecified   Straight  None or Unspecified               NaN   \n",
       "274835                  NaN        NaN                  NaN          Standard   \n",
       "141296  None or Unspecified   Straight  None or Unspecified               NaN   \n",
       "212552                  NaN        NaN                  NaN          Standard   \n",
       "62755   None or Unspecified        PAT                Lever               NaN   \n",
       "\n",
       "       Steering_Controls saleYear saleMonth saleDay saleDayofWeek  \\\n",
       "205615               NaN     1989         1      17             1   \n",
       "274835      Conventional     1989         1      31             1   \n",
       "141296               NaN     1989         1      31             1   \n",
       "212552      Conventional     1989         1      31             1   \n",
       "62755                NaN     1989         1      31             1   \n",
       "\n",
       "       saleDayofYear  \n",
       "205615            17  \n",
       "274835            31  \n",
       "141296            31  \n",
       "212552            31  \n",
       "62755             31  \n",
       "\n",
       "[5 rows x 57 columns]"
      ]
     },
     "execution_count": 45,
     "metadata": {},
     "output_type": "execute_result"
    }
   ],
   "source": [
    "df_tmp.head()"
   ]
  },
  {
   "cell_type": "code",
   "execution_count": 41,
   "metadata": {},
   "outputs": [
    {
     "data": {
      "text/plain": [
       "True"
      ]
     },
     "execution_count": 41,
     "metadata": {},
     "output_type": "execute_result"
    }
   ],
   "source": [
    "pd.api.types.is_string_dtype(df_tmp[\"UsageBand\"])"
   ]
  },
  {
   "cell_type": "code",
   "execution_count": 43,
   "metadata": {},
   "outputs": [
    {
     "name": "stdout",
     "output_type": "stream",
     "text": [
      "UsageBand\n",
      "fiModelDesc\n",
      "fiBaseModel\n",
      "fiSecondaryDesc\n",
      "fiModelSeries\n",
      "fiModelDescriptor\n",
      "ProductSize\n",
      "fiProductClassDesc\n",
      "state\n",
      "ProductGroup\n",
      "ProductGroupDesc\n",
      "Drive_System\n",
      "Enclosure\n",
      "Forks\n",
      "Pad_Type\n",
      "Ride_Control\n",
      "Stick\n",
      "Transmission\n",
      "Turbocharged\n",
      "Blade_Extension\n",
      "Blade_Width\n",
      "Enclosure_Type\n",
      "Engine_Horsepower\n",
      "Hydraulics\n",
      "Pushblock\n",
      "Ripper\n",
      "Scarifier\n",
      "Tip_Control\n",
      "Tire_Size\n",
      "Coupler\n",
      "Coupler_System\n",
      "Grouser_Tracks\n",
      "Hydraulics_Flow\n",
      "Track_Type\n",
      "Undercarriage_Pad_Width\n",
      "Stick_Length\n",
      "Thumb\n",
      "Pattern_Changer\n",
      "Grouser_Type\n",
      "Backhoe_Mounting\n",
      "Blade_Type\n",
      "Travel_Controls\n",
      "Differential_Type\n",
      "Steering_Controls\n"
     ]
    }
   ],
   "source": [
    "# Find columns which contain strings\n",
    "for label, content in df_tmp.items():\n",
    "    if pd.api.types.is_string_dtype(content):\n",
    "        print(label)"
   ]
  },
  {
   "cell_type": "code",
   "execution_count": 44,
   "metadata": {},
   "outputs": [
    {
     "name": "stdout",
     "output_type": "stream",
     "text": [
      "this is a key: key1 this is a value: hello\n",
      "this is a key: key2 this is a value: world!\n"
     ]
    }
   ],
   "source": [
    "# If you're wondering what df.items() does, here's an example\n",
    "random_dict = {\"key1\": \"hello\", \n",
    "              \"key2\": \"world!\"}\n",
    "\n",
    "for key, value in random_dict.items():\n",
    "    print(f\"this is a key: {key}\",\n",
    "         f\"this is a value: {value}\")"
   ]
  },
  {
   "cell_type": "code",
   "execution_count": 47,
   "metadata": {},
   "outputs": [],
   "source": [
    "# This will turn all of the string values in category values\n",
    "\n",
    "for label, content in df_tmp.items():\n",
    "    if pd.api.types.is_string_dtype(content):\n",
    "        df_tmp[label] = content.astype(\"category\").cat.as_ordered()\n"
   ]
  },
  {
   "cell_type": "code",
   "execution_count": 48,
   "metadata": {},
   "outputs": [
    {
     "data": {
      "text/plain": [
       "Index(['Alabama', 'Alaska', 'Arizona', 'Arkansas', 'California', 'Colorado',\n",
       "       'Connecticut', 'Delaware', 'Florida', 'Georgia', 'Hawaii', 'Idaho',\n",
       "       'Illinois', 'Indiana', 'Iowa', 'Kansas', 'Kentucky', 'Louisiana',\n",
       "       'Maine', 'Maryland', 'Massachusetts', 'Michigan', 'Minnesota',\n",
       "       'Mississippi', 'Missouri', 'Montana', 'Nebraska', 'Nevada',\n",
       "       'New Hampshire', 'New Jersey', 'New Mexico', 'New York',\n",
       "       'North Carolina', 'North Dakota', 'Ohio', 'Oklahoma', 'Oregon',\n",
       "       'Pennsylvania', 'Puerto Rico', 'Rhode Island', 'South Carolina',\n",
       "       'South Dakota', 'Tennessee', 'Texas', 'Unspecified', 'Utah', 'Vermont',\n",
       "       'Virginia', 'Washington', 'Washington DC', 'West Virginia', 'Wisconsin',\n",
       "       'Wyoming'],\n",
       "      dtype='object')"
      ]
     },
     "execution_count": 48,
     "metadata": {},
     "output_type": "execute_result"
    }
   ],
   "source": [
    "df_tmp.state.cat.categories"
   ]
  },
  {
   "cell_type": "code",
   "execution_count": 50,
   "metadata": {},
   "outputs": [
    {
     "data": {
      "text/plain": [
       "205615    43\n",
       "274835     8\n",
       "141296     8\n",
       "212552     8\n",
       "62755      8\n",
       "          ..\n",
       "410879     4\n",
       "412476     4\n",
       "411927     4\n",
       "407124     4\n",
       "409203     4\n",
       "Length: 412698, dtype: int8"
      ]
     },
     "execution_count": 50,
     "metadata": {},
     "output_type": "execute_result"
    }
   ],
   "source": [
    "df_tmp.state.cat.codes"
   ]
  },
  {
   "cell_type": "markdown",
   "metadata": {},
   "source": [
    "Thanks to pandas Categories we now have a way to access all of our data in the form of numbers. \n",
    "\n",
    "But we still have a bunch of missing data..."
   ]
  },
  {
   "cell_type": "code",
   "execution_count": 51,
   "metadata": {},
   "outputs": [
    {
     "data": {
      "text/plain": [
       "SalesID                     0.000000\n",
       "SalePrice                   0.000000\n",
       "MachineID                   0.000000\n",
       "ModelID                     0.000000\n",
       "datasource                  0.000000\n",
       "auctioneerID                0.048791\n",
       "YearMade                    0.000000\n",
       "MachineHoursCurrentMeter    0.642586\n",
       "UsageBand                   0.821492\n",
       "fiModelDesc                 0.000000\n",
       "fiBaseModel                 0.000000\n",
       "fiSecondaryDesc             0.340993\n",
       "fiModelSeries               0.857845\n",
       "fiModelDescriptor           0.818715\n",
       "ProductSize                 0.524851\n",
       "fiProductClassDesc          0.000000\n",
       "state                       0.000000\n",
       "ProductGroup                0.000000\n",
       "ProductGroupDesc            0.000000\n",
       "Drive_System                0.740520\n",
       "Enclosure                   0.000809\n",
       "Forks                       0.520921\n",
       "Pad_Type                    0.803498\n",
       "Ride_Control                0.629928\n",
       "Stick                       0.803498\n",
       "Transmission                0.544444\n",
       "Turbocharged                0.803498\n",
       "Blade_Extension             0.937041\n",
       "Blade_Width                 0.937041\n",
       "Enclosure_Type              0.937041\n",
       "Engine_Horsepower           0.937041\n",
       "Hydraulics                  0.200062\n",
       "Pushblock                   0.937041\n",
       "Ripper                      0.740864\n",
       "Scarifier                   0.937014\n",
       "Tip_Control                 0.937041\n",
       "Tire_Size                   0.763415\n",
       "Coupler                     0.465277\n",
       "Coupler_System              0.891024\n",
       "Grouser_Tracks              0.891264\n",
       "Hydraulics_Flow             0.891264\n",
       "Track_Type                  0.752378\n",
       "Undercarriage_Pad_Width     0.750626\n",
       "Stick_Length                0.752213\n",
       "Thumb                       0.752041\n",
       "Pattern_Changer             0.752213\n",
       "Grouser_Type                0.752378\n",
       "Backhoe_Mounting            0.804428\n",
       "Blade_Type                  0.801610\n",
       "Travel_Controls             0.801606\n",
       "Differential_Type           0.826595\n",
       "Steering_Controls           0.826697\n",
       "saleYear                    0.000000\n",
       "saleMonth                   0.000000\n",
       "saleDay                     0.000000\n",
       "saleDayofWeek               0.000000\n",
       "saleDayofYear               0.000000\n",
       "dtype: float64"
      ]
     },
     "execution_count": 51,
     "metadata": {},
     "output_type": "execute_result"
    }
   ],
   "source": [
    "# Check missing data\n",
    "df_tmp.isnull().sum()/len(df_tmp)"
   ]
  },
  {
   "cell_type": "markdown",
   "metadata": {},
   "source": [
    "### Save pre-processed data"
   ]
  },
  {
   "cell_type": "code",
   "execution_count": 52,
   "metadata": {},
   "outputs": [],
   "source": [
    "# Export current tmp dataframe\n",
    "df_tmp.to_csv(\"data/bluebook-for-bulldozers/train_tmp.csv\", \n",
    "             index=False)"
   ]
  },
  {
   "cell_type": "code",
   "execution_count": 53,
   "metadata": {},
   "outputs": [],
   "source": [
    "# Import preprocessed data\n",
    "df_tmp = pd.read_csv(\"data/bluebook-for-bulldozers/train_tmp.csv\", \n",
    "                    low_memory=False)"
   ]
  },
  {
   "cell_type": "code",
   "execution_count": 54,
   "metadata": {},
   "outputs": [
    {
     "data": {
      "text/plain": [
       "SalesID                          0\n",
       "SalePrice                        0\n",
       "MachineID                        0\n",
       "ModelID                          0\n",
       "datasource                       0\n",
       "auctioneerID                 20136\n",
       "YearMade                         0\n",
       "MachineHoursCurrentMeter    265194\n",
       "UsageBand                   339028\n",
       "fiModelDesc                      0\n",
       "fiBaseModel                      0\n",
       "fiSecondaryDesc             140727\n",
       "fiModelSeries               354031\n",
       "fiModelDescriptor           337882\n",
       "ProductSize                 216605\n",
       "fiProductClassDesc               0\n",
       "state                            0\n",
       "ProductGroup                     0\n",
       "ProductGroupDesc                 0\n",
       "Drive_System                305611\n",
       "Enclosure                      334\n",
       "Forks                       214983\n",
       "Pad_Type                    331602\n",
       "Ride_Control                259970\n",
       "Stick                       331602\n",
       "Transmission                224691\n",
       "Turbocharged                331602\n",
       "Blade_Extension             386715\n",
       "Blade_Width                 386715\n",
       "Enclosure_Type              386715\n",
       "Engine_Horsepower           386715\n",
       "Hydraulics                   82565\n",
       "Pushblock                   386715\n",
       "Ripper                      305753\n",
       "Scarifier                   386704\n",
       "Tip_Control                 386715\n",
       "Tire_Size                   315060\n",
       "Coupler                     192019\n",
       "Coupler_System              367724\n",
       "Grouser_Tracks              367823\n",
       "Hydraulics_Flow             367823\n",
       "Track_Type                  310505\n",
       "Undercarriage_Pad_Width     309782\n",
       "Stick_Length                310437\n",
       "Thumb                       310366\n",
       "Pattern_Changer             310437\n",
       "Grouser_Type                310505\n",
       "Backhoe_Mounting            331986\n",
       "Blade_Type                  330823\n",
       "Travel_Controls             330821\n",
       "Differential_Type           341134\n",
       "Steering_Controls           341176\n",
       "saleYear                         0\n",
       "saleMonth                        0\n",
       "saleDay                          0\n",
       "saleDayofWeek                    0\n",
       "saleDayofYear                    0\n",
       "dtype: int64"
      ]
     },
     "execution_count": 54,
     "metadata": {},
     "output_type": "execute_result"
    }
   ],
   "source": [
    "df_tmp.isna().sum()"
   ]
  },
  {
   "cell_type": "markdown",
   "metadata": {},
   "source": [
    "## Fill missing values\n",
    "\n",
    "### Fill numeric missing values first"
   ]
  },
  {
   "cell_type": "code",
   "execution_count": 55,
   "metadata": {},
   "outputs": [
    {
     "name": "stdout",
     "output_type": "stream",
     "text": [
      "SalesID\n",
      "SalePrice\n",
      "MachineID\n",
      "ModelID\n",
      "datasource\n",
      "auctioneerID\n",
      "YearMade\n",
      "MachineHoursCurrentMeter\n",
      "saleYear\n",
      "saleMonth\n",
      "saleDay\n",
      "saleDayofWeek\n",
      "saleDayofYear\n"
     ]
    }
   ],
   "source": [
    "for label, content in df_tmp.items():\n",
    "    if pd.api.types.is_numeric_dtype(content):\n",
    "        print(label)"
   ]
  },
  {
   "cell_type": "code",
   "execution_count": 57,
   "metadata": {},
   "outputs": [
    {
     "name": "stdout",
     "output_type": "stream",
     "text": [
      "auctioneerID\n",
      "MachineHoursCurrentMeter\n"
     ]
    }
   ],
   "source": [
    "# Check for which numeric columns have null values \n",
    "for label, content in df_tmp.items():\n",
    "    if pd.api.types.is_numeric_dtype(content):\n",
    "        if pd.isnull(content).sum():\n",
    "            print(label)"
   ]
  },
  {
   "cell_type": "code",
   "execution_count": 59,
   "metadata": {},
   "outputs": [],
   "source": [
    "# Fill numeric rows with the median\n",
    "for label, content in df_tmp.items():\n",
    "    if pd.api.types.is_numeric_dtype(content):\n",
    "        if pd.isnull(content).sum():\n",
    "            # Add a binary column which tells us if the data was missing or not\n",
    "            df_tmp[label+\"_is_missing\"] = pd.isnull(content)\n",
    "            # Fill missing numeric with median\n",
    "            df_tmp[label] = content.fillna(content.median())\n",
    "            # Median is more robust and less sensitive to outliers than the mean"
   ]
  },
  {
   "cell_type": "code",
   "execution_count": 60,
   "metadata": {},
   "outputs": [],
   "source": [
    "# check if there's any null numeric values\n",
    "for label, content in df_tmp.items():\n",
    "    if pd.api.types.is_numeric_dtype(content):\n",
    "        if pd.isnull(content).sum():\n",
    "            print(label)"
   ]
  },
  {
   "cell_type": "code",
   "execution_count": 61,
   "metadata": {},
   "outputs": [
    {
     "data": {
      "text/plain": [
       "False    392562\n",
       "True      20136\n",
       "Name: auctioneerID_is_missing, dtype: int64"
      ]
     },
     "execution_count": 61,
     "metadata": {},
     "output_type": "execute_result"
    }
   ],
   "source": [
    "# Check to see how many examples were missing\n",
    "df_tmp.auctioneerID_is_missing.value_counts()"
   ]
  },
  {
   "cell_type": "markdown",
   "metadata": {},
   "source": [
    "### Filling and turning categorical variables into numbers"
   ]
  },
  {
   "cell_type": "code",
   "execution_count": 63,
   "metadata": {},
   "outputs": [
    {
     "name": "stdout",
     "output_type": "stream",
     "text": [
      "UsageBand\n",
      "fiModelDesc\n",
      "fiBaseModel\n",
      "fiSecondaryDesc\n",
      "fiModelSeries\n",
      "fiModelDescriptor\n",
      "ProductSize\n",
      "fiProductClassDesc\n",
      "state\n",
      "ProductGroup\n",
      "ProductGroupDesc\n",
      "Drive_System\n",
      "Enclosure\n",
      "Forks\n",
      "Pad_Type\n",
      "Ride_Control\n",
      "Stick\n",
      "Transmission\n",
      "Turbocharged\n",
      "Blade_Extension\n",
      "Blade_Width\n",
      "Enclosure_Type\n",
      "Engine_Horsepower\n",
      "Hydraulics\n",
      "Pushblock\n",
      "Ripper\n",
      "Scarifier\n",
      "Tip_Control\n",
      "Tire_Size\n",
      "Coupler\n",
      "Coupler_System\n",
      "Grouser_Tracks\n",
      "Hydraulics_Flow\n",
      "Track_Type\n",
      "Undercarriage_Pad_Width\n",
      "Stick_Length\n",
      "Thumb\n",
      "Pattern_Changer\n",
      "Grouser_Type\n",
      "Backhoe_Mounting\n",
      "Blade_Type\n",
      "Travel_Controls\n",
      "Differential_Type\n",
      "Steering_Controls\n"
     ]
    }
   ],
   "source": [
    "for label, content in df_tmp.items():\n",
    "    if not pd.api.types.is_numeric_dtype(content):\n",
    "        print(label)"
   ]
  },
  {
   "cell_type": "code",
   "execution_count": 68,
   "metadata": {},
   "outputs": [],
   "source": [
    "# Turn categorical variabels in numbers and fill missing\n",
    "for label,content in df_tmp.items():\n",
    "    if not pd.api.types.is_numeric_dtype(content):\n",
    "        # Add a binary column which tells us if the data was missing or not\n",
    "        df_tmp[label+\"_is_missing\"] = pd.isnull(content)\n",
    "        # Turn categories into numbers and add +1\n",
    "        df_tmp[label] = pd.Categorical(content).codes+1\n",
    "            "
   ]
  },
  {
   "cell_type": "code",
   "execution_count": 64,
   "metadata": {},
   "outputs": [
    {
     "data": {
      "text/plain": [
       "array([43,  8,  8, ...,  4,  4,  4], dtype=int8)"
      ]
     },
     "execution_count": 64,
     "metadata": {},
     "output_type": "execute_result"
    }
   ],
   "source": [
    "pd.Categorical(df_tmp[\"state\"]).codes"
   ]
  },
  {
   "cell_type": "code",
   "execution_count": 69,
   "metadata": {},
   "outputs": [
    {
     "name": "stdout",
     "output_type": "stream",
     "text": [
      "<class 'pandas.core.frame.DataFrame'>\n",
      "RangeIndex: 412698 entries, 0 to 412697\n",
      "Columns: 103 entries, SalesID to Steering_Controls_is_missing\n",
      "dtypes: bool(46), float64(3), int16(4), int64(10), int8(40)\n",
      "memory usage: 77.9 MB\n"
     ]
    }
   ],
   "source": [
    "df_tmp.info()"
   ]
  },
  {
   "cell_type": "code",
   "execution_count": 70,
   "metadata": {},
   "outputs": [
    {
     "data": {
      "text/html": [
       "<div>\n",
       "<style scoped>\n",
       "    .dataframe tbody tr th:only-of-type {\n",
       "        vertical-align: middle;\n",
       "    }\n",
       "\n",
       "    .dataframe tbody tr th {\n",
       "        vertical-align: top;\n",
       "    }\n",
       "\n",
       "    .dataframe thead th {\n",
       "        text-align: right;\n",
       "    }\n",
       "</style>\n",
       "<table border=\"1\" class=\"dataframe\">\n",
       "  <thead>\n",
       "    <tr style=\"text-align: right;\">\n",
       "      <th></th>\n",
       "      <th>0</th>\n",
       "      <th>1</th>\n",
       "      <th>2</th>\n",
       "      <th>3</th>\n",
       "      <th>4</th>\n",
       "    </tr>\n",
       "  </thead>\n",
       "  <tbody>\n",
       "    <tr>\n",
       "      <th>SalesID</th>\n",
       "      <td>1646770</td>\n",
       "      <td>1821514</td>\n",
       "      <td>1505138</td>\n",
       "      <td>1671174</td>\n",
       "      <td>1329056</td>\n",
       "    </tr>\n",
       "    <tr>\n",
       "      <th>SalePrice</th>\n",
       "      <td>9500</td>\n",
       "      <td>14000</td>\n",
       "      <td>50000</td>\n",
       "      <td>16000</td>\n",
       "      <td>22000</td>\n",
       "    </tr>\n",
       "    <tr>\n",
       "      <th>MachineID</th>\n",
       "      <td>1126363</td>\n",
       "      <td>1194089</td>\n",
       "      <td>1473654</td>\n",
       "      <td>1327630</td>\n",
       "      <td>1336053</td>\n",
       "    </tr>\n",
       "    <tr>\n",
       "      <th>ModelID</th>\n",
       "      <td>8434</td>\n",
       "      <td>10150</td>\n",
       "      <td>4139</td>\n",
       "      <td>8591</td>\n",
       "      <td>4089</td>\n",
       "    </tr>\n",
       "    <tr>\n",
       "      <th>datasource</th>\n",
       "      <td>132</td>\n",
       "      <td>132</td>\n",
       "      <td>132</td>\n",
       "      <td>132</td>\n",
       "      <td>132</td>\n",
       "    </tr>\n",
       "    <tr>\n",
       "      <th>...</th>\n",
       "      <td>...</td>\n",
       "      <td>...</td>\n",
       "      <td>...</td>\n",
       "      <td>...</td>\n",
       "      <td>...</td>\n",
       "    </tr>\n",
       "    <tr>\n",
       "      <th>Backhoe_Mounting_is_missing</th>\n",
       "      <td>False</td>\n",
       "      <td>True</td>\n",
       "      <td>False</td>\n",
       "      <td>True</td>\n",
       "      <td>False</td>\n",
       "    </tr>\n",
       "    <tr>\n",
       "      <th>Blade_Type_is_missing</th>\n",
       "      <td>False</td>\n",
       "      <td>True</td>\n",
       "      <td>False</td>\n",
       "      <td>True</td>\n",
       "      <td>False</td>\n",
       "    </tr>\n",
       "    <tr>\n",
       "      <th>Travel_Controls_is_missing</th>\n",
       "      <td>False</td>\n",
       "      <td>True</td>\n",
       "      <td>False</td>\n",
       "      <td>True</td>\n",
       "      <td>False</td>\n",
       "    </tr>\n",
       "    <tr>\n",
       "      <th>Differential_Type_is_missing</th>\n",
       "      <td>True</td>\n",
       "      <td>False</td>\n",
       "      <td>True</td>\n",
       "      <td>False</td>\n",
       "      <td>True</td>\n",
       "    </tr>\n",
       "    <tr>\n",
       "      <th>Steering_Controls_is_missing</th>\n",
       "      <td>True</td>\n",
       "      <td>False</td>\n",
       "      <td>True</td>\n",
       "      <td>False</td>\n",
       "      <td>True</td>\n",
       "    </tr>\n",
       "  </tbody>\n",
       "</table>\n",
       "<p>103 rows × 5 columns</p>\n",
       "</div>"
      ],
      "text/plain": [
       "                                    0        1        2        3        4\n",
       "SalesID                       1646770  1821514  1505138  1671174  1329056\n",
       "SalePrice                        9500    14000    50000    16000    22000\n",
       "MachineID                     1126363  1194089  1473654  1327630  1336053\n",
       "ModelID                          8434    10150     4139     8591     4089\n",
       "datasource                        132      132      132      132      132\n",
       "...                               ...      ...      ...      ...      ...\n",
       "Backhoe_Mounting_is_missing     False     True    False     True    False\n",
       "Blade_Type_is_missing           False     True    False     True    False\n",
       "Travel_Controls_is_missing      False     True    False     True    False\n",
       "Differential_Type_is_missing     True    False     True    False     True\n",
       "Steering_Controls_is_missing     True    False     True    False     True\n",
       "\n",
       "[103 rows x 5 columns]"
      ]
     },
     "execution_count": 70,
     "metadata": {},
     "output_type": "execute_result"
    }
   ],
   "source": [
    "df_tmp.head().T"
   ]
  },
  {
   "cell_type": "code",
   "execution_count": 72,
   "metadata": {},
   "outputs": [
    {
     "data": {
      "text/plain": [
       "SalesID                         0\n",
       "SalePrice                       0\n",
       "MachineID                       0\n",
       "ModelID                         0\n",
       "datasource                      0\n",
       "                               ..\n",
       "Backhoe_Mounting_is_missing     0\n",
       "Blade_Type_is_missing           0\n",
       "Travel_Controls_is_missing      0\n",
       "Differential_Type_is_missing    0\n",
       "Steering_Controls_is_missing    0\n",
       "Length: 103, dtype: int64"
      ]
     },
     "execution_count": 72,
     "metadata": {},
     "output_type": "execute_result"
    }
   ],
   "source": [
    "df_tmp.isna().sum()"
   ]
  },
  {
   "cell_type": "markdown",
   "metadata": {},
   "source": [
    "Now that all of data is numeric as well as our datafram has no missing values, we should be able to build a machine learning model. "
   ]
  },
  {
   "cell_type": "code",
   "execution_count": 73,
   "metadata": {},
   "outputs": [
    {
     "name": "stdout",
     "output_type": "stream",
     "text": [
      "CPU times: user 19min 41s, sys: 10.6 s, total: 19min 52s\n",
      "Wall time: 3min 10s\n"
     ]
    },
    {
     "data": {
      "text/plain": [
       "RandomForestRegressor(bootstrap=True, ccp_alpha=0.0, criterion='mse',\n",
       "                      max_depth=None, max_features='auto', max_leaf_nodes=None,\n",
       "                      max_samples=None, min_impurity_decrease=0.0,\n",
       "                      min_impurity_split=None, min_samples_leaf=1,\n",
       "                      min_samples_split=2, min_weight_fraction_leaf=0.0,\n",
       "                      n_estimators=100, n_jobs=-1, oob_score=False,\n",
       "                      random_state=42, verbose=0, warm_start=False)"
      ]
     },
     "execution_count": 73,
     "metadata": {},
     "output_type": "execute_result"
    }
   ],
   "source": [
    "%%time\n",
    "# Instantiate model \n",
    "model = RandomForestRegressor(n_jobs=-1, \n",
    "                             random_state=42)\n",
    "\n",
    "# Fit the model\n",
    "model.fit(df_tmp.drop(\"SalePrice\", axis=1), df_tmp[\"SalePrice\"])"
   ]
  },
  {
   "cell_type": "code",
   "execution_count": 74,
   "metadata": {},
   "outputs": [
    {
     "data": {
      "text/plain": [
       "0.9875468079970563"
      ]
     },
     "execution_count": 74,
     "metadata": {},
     "output_type": "execute_result"
    }
   ],
   "source": [
    "# Score the model \n",
    "model.score(df_tmp.drop(\"SalePrice\", axis=1), df_tmp[\"SalePrice\"])"
   ]
  },
  {
   "cell_type": "markdown",
   "metadata": {},
   "source": [
    "**Question:** Why doesn't the above metric hold water?\n",
    "   \n",
    " We used the same data to train and fit the model."
   ]
  },
  {
   "cell_type": "markdown",
   "metadata": {},
   "source": [
    "### Splitting data into train/validation sets"
   ]
  },
  {
   "cell_type": "code",
   "execution_count": 77,
   "metadata": {},
   "outputs": [
    {
     "data": {
      "text/plain": [
       "0         1989\n",
       "1         1989\n",
       "2         1989\n",
       "3         1989\n",
       "4         1989\n",
       "          ... \n",
       "412693    2012\n",
       "412694    2012\n",
       "412695    2012\n",
       "412696    2012\n",
       "412697    2012\n",
       "Name: saleYear, Length: 412698, dtype: int64"
      ]
     },
     "execution_count": 77,
     "metadata": {},
     "output_type": "execute_result"
    }
   ],
   "source": [
    "df_tmp.saleYear"
   ]
  },
  {
   "cell_type": "code",
   "execution_count": 78,
   "metadata": {},
   "outputs": [
    {
     "data": {
      "text/plain": [
       "2009    43849\n",
       "2008    39767\n",
       "2011    35197\n",
       "2010    33390\n",
       "2007    32208\n",
       "2006    21685\n",
       "2005    20463\n",
       "2004    19879\n",
       "2001    17594\n",
       "2000    17415\n",
       "2002    17246\n",
       "2003    15254\n",
       "1998    13046\n",
       "1999    12793\n",
       "2012    11573\n",
       "1997     9785\n",
       "1996     8829\n",
       "1995     8530\n",
       "1994     7929\n",
       "1993     6303\n",
       "1992     5519\n",
       "1991     5109\n",
       "1989     4806\n",
       "1990     4529\n",
       "Name: saleYear, dtype: int64"
      ]
     },
     "execution_count": 78,
     "metadata": {},
     "output_type": "execute_result"
    }
   ],
   "source": [
    "df_tmp.saleYear.value_counts()"
   ]
  },
  {
   "cell_type": "code",
   "execution_count": 79,
   "metadata": {},
   "outputs": [
    {
     "data": {
      "text/plain": [
       "(11573, 401125)"
      ]
     },
     "execution_count": 79,
     "metadata": {},
     "output_type": "execute_result"
    }
   ],
   "source": [
    "# Splut data into training and validation\n",
    "df_val = df_tmp[df_tmp.saleYear == 2012]\n",
    "df_train = df_tmp[df_tmp.saleYear != 2012]\n",
    "\n",
    "len(df_val), len(df_train)"
   ]
  },
  {
   "cell_type": "code",
   "execution_count": 81,
   "metadata": {},
   "outputs": [
    {
     "data": {
      "text/plain": [
       "((401125, 102), (401125,), (11573, 102), (11573,))"
      ]
     },
     "execution_count": 81,
     "metadata": {},
     "output_type": "execute_result"
    }
   ],
   "source": [
    "# Split data into x and y \n",
    "x_train, y_train = df_train.drop(\"SalePrice\", axis=1), df_train.SalePrice\n",
    "x_valid, y_valid = df_val.drop(\"SalePrice\", axis=1), df_val.SalePrice\n",
    "\n",
    "x_train.shape, y_train.shape, x_valid.shape, y_valid.shape"
   ]
  },
  {
   "cell_type": "markdown",
   "metadata": {},
   "source": [
    "### Building an evaluation function"
   ]
  },
  {
   "cell_type": "code",
   "execution_count": 90,
   "metadata": {},
   "outputs": [],
   "source": [
    "# Create evaluation function (RMSLE)\n",
    "from sklearn.metrics import mean_squared_log_error, mean_absolute_error, r2_score\n",
    "\n",
    "def rmsle(y_test, y_preds):\n",
    "    \n",
    "    \"\"\"\n",
    "    Calculates root mean squared log error between predictions and true labels.\n",
    "    \"\"\"\n",
    "\n",
    "    return np.sqrt(mean_squared_log_error(y_test, y_preds))\n",
    "\n",
    "# Create function to evaluate model on a few fifferent levels\n",
    "def show_scores(model):\n",
    "    train_preds = model.predict(x_train)\n",
    "    val_preds = model.predict(x_valid)\n",
    "    scores = {\"Training MAE\": mean_absolute_error(y_train, train_preds), \n",
    "             \"Valid MAE\": mean_absolute_error(y_valid, val_preds), \n",
    "             \"Training RSMLE\": rmsle(y_train, train_preds), \n",
    "             \"Valid RSMLE\": rmsle(y_valid, val_preds), \n",
    "             \"Training R^2\": r2_score(y_train, train_preds), \n",
    "             \"Valid R^2\": r2_score(y_valid, val_preds)}\n",
    "    return scores"
   ]
  },
  {
   "cell_type": "markdown",
   "metadata": {},
   "source": [
    "## Testing our model on a subset (to tune the hyperparameters)"
   ]
  },
  {
   "cell_type": "code",
   "execution_count": 85,
   "metadata": {},
   "outputs": [],
   "source": [
    "# Change max_samples value\n",
    "model = RandomForestRegressor(n_jobs=-1, \n",
    "                             random_state=42, \n",
    "                             max_samples=10000)"
   ]
  },
  {
   "cell_type": "code",
   "execution_count": 86,
   "metadata": {},
   "outputs": [
    {
     "name": "stdout",
     "output_type": "stream",
     "text": [
      "CPU times: user 1min 7s, sys: 1.59 s, total: 1min 8s\n",
      "Wall time: 14.5 s\n"
     ]
    },
    {
     "data": {
      "text/plain": [
       "RandomForestRegressor(bootstrap=True, ccp_alpha=0.0, criterion='mse',\n",
       "                      max_depth=None, max_features='auto', max_leaf_nodes=None,\n",
       "                      max_samples=10000, min_impurity_decrease=0.0,\n",
       "                      min_impurity_split=None, min_samples_leaf=1,\n",
       "                      min_samples_split=2, min_weight_fraction_leaf=0.0,\n",
       "                      n_estimators=100, n_jobs=-1, oob_score=False,\n",
       "                      random_state=42, verbose=0, warm_start=False)"
      ]
     },
     "execution_count": 86,
     "metadata": {},
     "output_type": "execute_result"
    }
   ],
   "source": [
    "%%time\n",
    "model.fit(x_train, y_train)"
   ]
  },
  {
   "cell_type": "code",
   "execution_count": 96,
   "metadata": {},
   "outputs": [
    {
     "data": {
      "text/plain": [
       "{'Training MAE': 5561.2988092240585,\n",
       " 'Valid MAE': 7177.26365505919,\n",
       " 'Training RSMLE': 0.257745378256977,\n",
       " 'Valid RSMLE': 0.29362638671089003,\n",
       " 'Training R^2': 0.8606658995199189,\n",
       " 'Valid R^2': 0.8320374995090507}"
      ]
     },
     "execution_count": 96,
     "metadata": {},
     "output_type": "execute_result"
    }
   ],
   "source": [
    "show_scores(model)"
   ]
  },
  {
   "cell_type": "markdown",
   "metadata": {},
   "source": [
    "### Hyperparameter tuning with RandomizedSearchCV"
   ]
  },
  {
   "cell_type": "code",
   "execution_count": 98,
   "metadata": {},
   "outputs": [
    {
     "name": "stdout",
     "output_type": "stream",
     "text": [
      "Fitting 5 folds for each of 2 candidates, totalling 10 fits\n"
     ]
    },
    {
     "name": "stderr",
     "output_type": "stream",
     "text": [
      "[Parallel(n_jobs=1)]: Using backend SequentialBackend with 1 concurrent workers.\n",
      "[Parallel(n_jobs=1)]: Done  10 out of  10 | elapsed:   39.9s finished\n"
     ]
    },
    {
     "name": "stdout",
     "output_type": "stream",
     "text": [
      "CPU times: user 37.7 s, sys: 4.24 s, total: 41.9 s\n",
      "Wall time: 43.6 s\n"
     ]
    },
    {
     "data": {
      "text/plain": [
       "RandomizedSearchCV(cv=5, error_score=nan,\n",
       "                   estimator=RandomForestRegressor(bootstrap=True,\n",
       "                                                   ccp_alpha=0.0,\n",
       "                                                   criterion='mse',\n",
       "                                                   max_depth=None,\n",
       "                                                   max_features='auto',\n",
       "                                                   max_leaf_nodes=None,\n",
       "                                                   max_samples=None,\n",
       "                                                   min_impurity_decrease=0.0,\n",
       "                                                   min_impurity_split=None,\n",
       "                                                   min_samples_leaf=1,\n",
       "                                                   min_samples_split=2,\n",
       "                                                   min_weight_fraction_leaf=0.0,\n",
       "                                                   n_estimators=100, n_jobs=-1,\n",
       "                                                   oob_score=False,...\n",
       "                   param_distributions={'max_depth': [None, 3, 5, 10],\n",
       "                                        'max_features': [0.5, 1, 'sqrt',\n",
       "                                                         'auto'],\n",
       "                                        'max_samples': [10000],\n",
       "                                        'min_samples_leaf': array([ 1,  3,  5,  7,  9, 11, 13, 15, 17, 19]),\n",
       "                                        'min_samples_split': array([ 2,  4,  6,  8, 10, 12, 14, 16, 18]),\n",
       "                                        'n_estimators': array([10, 20, 30, 40, 50, 60, 70, 80, 90])},\n",
       "                   pre_dispatch='2*n_jobs', random_state=None, refit=True,\n",
       "                   return_train_score=False, scoring=None, verbose=True)"
      ]
     },
     "execution_count": 98,
     "metadata": {},
     "output_type": "execute_result"
    }
   ],
   "source": [
    "%%time\n",
    "from sklearn.model_selection import RandomizedSearchCV\n",
    "\n",
    "# Different RandomForestRegression hyperparameters\n",
    "rf_grid = {\"n_estimators\": np.arange(10,100,10), \n",
    "          \"max_depth\": [None, 3, 5, 10], \n",
    "          \"min_samples_split\": np.arange(2,20,2), \n",
    "          \"min_samples_leaf\": np.arange(1,20,2),\n",
    "          \"max_features\": [0.5, 1, \"sqrt\", \"auto\"], \n",
    "          \"max_samples\": [10000]}\n",
    "\n",
    "# Instantiate RandomizedSearchCV Model\n",
    "rs_model = RandomizedSearchCV(RandomForestRegressor(n_jobs=-1, \n",
    "                                                   random_state=42), \n",
    "                             param_distributions=rf_grid, \n",
    "                             n_iter=2, \n",
    "                             cv=5, \n",
    "                             verbose=True)\n",
    "\n",
    "# Fit the RandomizedSearchCV model\n",
    "rs_model.fit(x_train, y_train)"
   ]
  },
  {
   "cell_type": "code",
   "execution_count": 99,
   "metadata": {},
   "outputs": [
    {
     "data": {
      "text/plain": [
       "{'n_estimators': 80,\n",
       " 'min_samples_split': 18,\n",
       " 'min_samples_leaf': 7,\n",
       " 'max_samples': 10000,\n",
       " 'max_features': 0.5,\n",
       " 'max_depth': None}"
      ]
     },
     "execution_count": 99,
     "metadata": {},
     "output_type": "execute_result"
    }
   ],
   "source": [
    "# Find the best model hyperparameters\n",
    "rs_model.best_params_"
   ]
  },
  {
   "cell_type": "code",
   "execution_count": 100,
   "metadata": {},
   "outputs": [
    {
     "data": {
      "text/plain": [
       "{'Training MAE': 6276.9180217292005,\n",
       " 'Valid MAE': 7631.118676392893,\n",
       " 'Training RSMLE': 0.28377555424681344,\n",
       " 'Valid RSMLE': 0.30776747116017444,\n",
       " 'Training R^2': 0.824965616449262,\n",
       " 'Valid R^2': 0.8098575276273299}"
      ]
     },
     "execution_count": 100,
     "metadata": {},
     "output_type": "execute_result"
    }
   ],
   "source": [
    "# Evaluate the RandomizedSearch model \n",
    "show_scores(rs_model)"
   ]
  },
  {
   "cell_type": "markdown",
   "metadata": {},
   "source": [
    "### Train a model with the best hyperparameters\n",
    "\n",
    "**Note**: These were found after 100 iterations of `RandomizedSearchCV`"
   ]
  },
  {
   "cell_type": "code",
   "execution_count": 102,
   "metadata": {},
   "outputs": [
    {
     "name": "stdout",
     "output_type": "stream",
     "text": [
      "CPU times: user 3min 41s, sys: 1.81 s, total: 3min 42s\n",
      "Wall time: 34.7 s\n"
     ]
    },
    {
     "data": {
      "text/plain": [
       "RandomForestRegressor(bootstrap=True, ccp_alpha=0.0, criterion='mse',\n",
       "                      max_depth=None, max_features=0.5, max_leaf_nodes=None,\n",
       "                      max_samples=None, min_impurity_decrease=0.0,\n",
       "                      min_impurity_split=None, min_samples_leaf=1,\n",
       "                      min_samples_split=14, min_weight_fraction_leaf=0.0,\n",
       "                      n_estimators=40, n_jobs=-1, oob_score=False,\n",
       "                      random_state=None, verbose=0, warm_start=False)"
      ]
     },
     "execution_count": 102,
     "metadata": {},
     "output_type": "execute_result"
    }
   ],
   "source": [
    "%%time\n",
    "# Most ideal hyperparameters\n",
    "ideal_model = RandomForestRegressor(n_estimators=40, \n",
    "                                   min_samples_leaf=1, \n",
    "                                   min_samples_split=14, \n",
    "                                   max_features=0.5, \n",
    "                                   n_jobs=-1, \n",
    "                                   max_samples=None, \n",
    "                                    random_state=42)\n",
    "\n",
    "# Fit the ideal model \n",
    "ideal_model.fit(x_train, y_train)"
   ]
  },
  {
   "cell_type": "code",
   "execution_count": 103,
   "metadata": {},
   "outputs": [
    {
     "data": {
      "text/plain": [
       "{'Training MAE': 2948.1521959753863,\n",
       " 'Valid MAE': 5962.02156248879,\n",
       " 'Training RSMLE': 0.1443985613515476,\n",
       " 'Valid RSMLE': 0.24643276607561537,\n",
       " 'Training R^2': 0.9590234905933226,\n",
       " 'Valid R^2': 0.8814699203244046}"
      ]
     },
     "execution_count": 103,
     "metadata": {},
     "output_type": "execute_result"
    }
   ],
   "source": [
    "show_scores(ideal_model)"
   ]
  },
  {
   "cell_type": "markdown",
   "metadata": {},
   "source": [
    "## Make predictions on test data"
   ]
  },
  {
   "cell_type": "code",
   "execution_count": 129,
   "metadata": {},
   "outputs": [],
   "source": [
    "# Import the test data\n",
    "df_test = pd.read_csv(\"data/bluebook-for-bulldozers/Test.csv\", \n",
    "                     low_memory=False, \n",
    "                     parse_dates=[\"saledate\"])"
   ]
  },
  {
   "cell_type": "code",
   "execution_count": 130,
   "metadata": {},
   "outputs": [
    {
     "ename": "ValueError",
     "evalue": "could not convert string to float: 'Low'",
     "output_type": "error",
     "traceback": [
      "\u001b[0;31m---------------------------------------------------------------------------\u001b[0m",
      "\u001b[0;31mValueError\u001b[0m                                Traceback (most recent call last)",
      "\u001b[0;32m<ipython-input-130-dcaddf54aa59>\u001b[0m in \u001b[0;36m<module>\u001b[0;34m\u001b[0m\n\u001b[1;32m      1\u001b[0m \u001b[0;31m# Make predictions on the test dataset\u001b[0m\u001b[0;34m\u001b[0m\u001b[0;34m\u001b[0m\u001b[0;34m\u001b[0m\u001b[0m\n\u001b[0;32m----> 2\u001b[0;31m \u001b[0mtest_preds\u001b[0m \u001b[0;34m=\u001b[0m \u001b[0mideal_model\u001b[0m\u001b[0;34m.\u001b[0m\u001b[0mpredict\u001b[0m\u001b[0;34m(\u001b[0m\u001b[0mdf_test\u001b[0m\u001b[0;34m)\u001b[0m\u001b[0;34m\u001b[0m\u001b[0;34m\u001b[0m\u001b[0m\n\u001b[0m",
      "\u001b[0;32m~/Desktop/ml_course/bulldozer-price-prediction-project/env/lib/python3.8/site-packages/sklearn/ensemble/_forest.py\u001b[0m in \u001b[0;36mpredict\u001b[0;34m(self, X)\u001b[0m\n\u001b[1;32m    764\u001b[0m         \u001b[0mcheck_is_fitted\u001b[0m\u001b[0;34m(\u001b[0m\u001b[0mself\u001b[0m\u001b[0;34m)\u001b[0m\u001b[0;34m\u001b[0m\u001b[0;34m\u001b[0m\u001b[0m\n\u001b[1;32m    765\u001b[0m         \u001b[0;31m# Check data\u001b[0m\u001b[0;34m\u001b[0m\u001b[0;34m\u001b[0m\u001b[0;34m\u001b[0m\u001b[0m\n\u001b[0;32m--> 766\u001b[0;31m         \u001b[0mX\u001b[0m \u001b[0;34m=\u001b[0m \u001b[0mself\u001b[0m\u001b[0;34m.\u001b[0m\u001b[0m_validate_X_predict\u001b[0m\u001b[0;34m(\u001b[0m\u001b[0mX\u001b[0m\u001b[0;34m)\u001b[0m\u001b[0;34m\u001b[0m\u001b[0;34m\u001b[0m\u001b[0m\n\u001b[0m\u001b[1;32m    767\u001b[0m \u001b[0;34m\u001b[0m\u001b[0m\n\u001b[1;32m    768\u001b[0m         \u001b[0;31m# Assign chunk of trees to jobs\u001b[0m\u001b[0;34m\u001b[0m\u001b[0;34m\u001b[0m\u001b[0;34m\u001b[0m\u001b[0m\n",
      "\u001b[0;32m~/Desktop/ml_course/bulldozer-price-prediction-project/env/lib/python3.8/site-packages/sklearn/ensemble/_forest.py\u001b[0m in \u001b[0;36m_validate_X_predict\u001b[0;34m(self, X)\u001b[0m\n\u001b[1;32m    410\u001b[0m         \u001b[0mcheck_is_fitted\u001b[0m\u001b[0;34m(\u001b[0m\u001b[0mself\u001b[0m\u001b[0;34m)\u001b[0m\u001b[0;34m\u001b[0m\u001b[0;34m\u001b[0m\u001b[0m\n\u001b[1;32m    411\u001b[0m \u001b[0;34m\u001b[0m\u001b[0m\n\u001b[0;32m--> 412\u001b[0;31m         \u001b[0;32mreturn\u001b[0m \u001b[0mself\u001b[0m\u001b[0;34m.\u001b[0m\u001b[0mestimators_\u001b[0m\u001b[0;34m[\u001b[0m\u001b[0;36m0\u001b[0m\u001b[0;34m]\u001b[0m\u001b[0;34m.\u001b[0m\u001b[0m_validate_X_predict\u001b[0m\u001b[0;34m(\u001b[0m\u001b[0mX\u001b[0m\u001b[0;34m,\u001b[0m \u001b[0mcheck_input\u001b[0m\u001b[0;34m=\u001b[0m\u001b[0;32mTrue\u001b[0m\u001b[0;34m)\u001b[0m\u001b[0;34m\u001b[0m\u001b[0;34m\u001b[0m\u001b[0m\n\u001b[0m\u001b[1;32m    413\u001b[0m \u001b[0;34m\u001b[0m\u001b[0m\n\u001b[1;32m    414\u001b[0m     \u001b[0;34m@\u001b[0m\u001b[0mproperty\u001b[0m\u001b[0;34m\u001b[0m\u001b[0;34m\u001b[0m\u001b[0m\n",
      "\u001b[0;32m~/Desktop/ml_course/bulldozer-price-prediction-project/env/lib/python3.8/site-packages/sklearn/tree/_classes.py\u001b[0m in \u001b[0;36m_validate_X_predict\u001b[0;34m(self, X, check_input)\u001b[0m\n\u001b[1;32m    378\u001b[0m         \u001b[0;34m\"\"\"Validate X whenever one tries to predict, apply, predict_proba\"\"\"\u001b[0m\u001b[0;34m\u001b[0m\u001b[0;34m\u001b[0m\u001b[0m\n\u001b[1;32m    379\u001b[0m         \u001b[0;32mif\u001b[0m \u001b[0mcheck_input\u001b[0m\u001b[0;34m:\u001b[0m\u001b[0;34m\u001b[0m\u001b[0;34m\u001b[0m\u001b[0m\n\u001b[0;32m--> 380\u001b[0;31m             \u001b[0mX\u001b[0m \u001b[0;34m=\u001b[0m \u001b[0mcheck_array\u001b[0m\u001b[0;34m(\u001b[0m\u001b[0mX\u001b[0m\u001b[0;34m,\u001b[0m \u001b[0mdtype\u001b[0m\u001b[0;34m=\u001b[0m\u001b[0mDTYPE\u001b[0m\u001b[0;34m,\u001b[0m \u001b[0maccept_sparse\u001b[0m\u001b[0;34m=\u001b[0m\u001b[0;34m\"csr\"\u001b[0m\u001b[0;34m)\u001b[0m\u001b[0;34m\u001b[0m\u001b[0;34m\u001b[0m\u001b[0m\n\u001b[0m\u001b[1;32m    381\u001b[0m             if issparse(X) and (X.indices.dtype != np.intc or\n\u001b[1;32m    382\u001b[0m                                 X.indptr.dtype != np.intc):\n",
      "\u001b[0;32m~/Desktop/ml_course/bulldozer-price-prediction-project/env/lib/python3.8/site-packages/sklearn/utils/validation.py\u001b[0m in \u001b[0;36mcheck_array\u001b[0;34m(array, accept_sparse, accept_large_sparse, dtype, order, copy, force_all_finite, ensure_2d, allow_nd, ensure_min_samples, ensure_min_features, warn_on_dtype, estimator)\u001b[0m\n\u001b[1;32m    529\u001b[0m                     \u001b[0marray\u001b[0m \u001b[0;34m=\u001b[0m \u001b[0marray\u001b[0m\u001b[0;34m.\u001b[0m\u001b[0mastype\u001b[0m\u001b[0;34m(\u001b[0m\u001b[0mdtype\u001b[0m\u001b[0;34m,\u001b[0m \u001b[0mcasting\u001b[0m\u001b[0;34m=\u001b[0m\u001b[0;34m\"unsafe\"\u001b[0m\u001b[0;34m,\u001b[0m \u001b[0mcopy\u001b[0m\u001b[0;34m=\u001b[0m\u001b[0;32mFalse\u001b[0m\u001b[0;34m)\u001b[0m\u001b[0;34m\u001b[0m\u001b[0;34m\u001b[0m\u001b[0m\n\u001b[1;32m    530\u001b[0m                 \u001b[0;32melse\u001b[0m\u001b[0;34m:\u001b[0m\u001b[0;34m\u001b[0m\u001b[0;34m\u001b[0m\u001b[0m\n\u001b[0;32m--> 531\u001b[0;31m                     \u001b[0marray\u001b[0m \u001b[0;34m=\u001b[0m \u001b[0mnp\u001b[0m\u001b[0;34m.\u001b[0m\u001b[0masarray\u001b[0m\u001b[0;34m(\u001b[0m\u001b[0marray\u001b[0m\u001b[0;34m,\u001b[0m \u001b[0morder\u001b[0m\u001b[0;34m=\u001b[0m\u001b[0morder\u001b[0m\u001b[0;34m,\u001b[0m \u001b[0mdtype\u001b[0m\u001b[0;34m=\u001b[0m\u001b[0mdtype\u001b[0m\u001b[0;34m)\u001b[0m\u001b[0;34m\u001b[0m\u001b[0;34m\u001b[0m\u001b[0m\n\u001b[0m\u001b[1;32m    532\u001b[0m             \u001b[0;32mexcept\u001b[0m \u001b[0mComplexWarning\u001b[0m\u001b[0;34m:\u001b[0m\u001b[0;34m\u001b[0m\u001b[0;34m\u001b[0m\u001b[0m\n\u001b[1;32m    533\u001b[0m                 raise ValueError(\"Complex data not supported\\n\"\n",
      "\u001b[0;32m~/Desktop/ml_course/bulldozer-price-prediction-project/env/lib/python3.8/site-packages/numpy/core/_asarray.py\u001b[0m in \u001b[0;36masarray\u001b[0;34m(a, dtype, order)\u001b[0m\n\u001b[1;32m     83\u001b[0m \u001b[0;34m\u001b[0m\u001b[0m\n\u001b[1;32m     84\u001b[0m     \"\"\"\n\u001b[0;32m---> 85\u001b[0;31m     \u001b[0;32mreturn\u001b[0m \u001b[0marray\u001b[0m\u001b[0;34m(\u001b[0m\u001b[0ma\u001b[0m\u001b[0;34m,\u001b[0m \u001b[0mdtype\u001b[0m\u001b[0;34m,\u001b[0m \u001b[0mcopy\u001b[0m\u001b[0;34m=\u001b[0m\u001b[0;32mFalse\u001b[0m\u001b[0;34m,\u001b[0m \u001b[0morder\u001b[0m\u001b[0;34m=\u001b[0m\u001b[0morder\u001b[0m\u001b[0;34m)\u001b[0m\u001b[0;34m\u001b[0m\u001b[0;34m\u001b[0m\u001b[0m\n\u001b[0m\u001b[1;32m     86\u001b[0m \u001b[0;34m\u001b[0m\u001b[0m\n\u001b[1;32m     87\u001b[0m \u001b[0;34m\u001b[0m\u001b[0m\n",
      "\u001b[0;31mValueError\u001b[0m: could not convert string to float: 'Low'"
     ]
    }
   ],
   "source": [
    "# Make predictions on the test dataset\n",
    "test_preds = ideal_model.predict(df_test)"
   ]
  },
  {
   "cell_type": "markdown",
   "metadata": {},
   "source": [
    "## Preprocessing the data (getting the test dataset in the same format as our training dataset)"
   ]
  },
  {
   "cell_type": "code",
   "execution_count": 131,
   "metadata": {},
   "outputs": [],
   "source": [
    "def preprocess_data(df):\n",
    "    \"\"\"\n",
    "    Performs transformations on df and returns transformed df. \n",
    "    \"\"\"\n",
    "    \n",
    "    df[\"saleYear\"] = df.saledate.dt.year\n",
    "    df[\"saleMonth\"] = df.saledate.dt.month\n",
    "    df[\"saleDay\"] = df.saledate.dt.day\n",
    "    df[\"saleDayofWeek\"] = df.saledate.dt.dayofweek\n",
    "    df[\"saleDayofYear\"] = df.saledate.dt.dayofyear\n",
    "    \n",
    "    df.drop(\"saledate\", axis=1, inplace=True)\n",
    "    \n",
    "    \n",
    "    # Fill the numeric rows with median\n",
    "    for label, content in df.items():\n",
    "        if pd.api.types.is_numeric_dtype(content):\n",
    "            if pd.isnull(content).sum():\n",
    "                # Add a binary column which tells us if the data was missing or not\n",
    "                df[label+\"_is_missing\"] = pd.isnull(content)\n",
    "                # Fill missing numeric with median\n",
    "                df[label] = content.fillna(content.median())\n",
    "                # Median is more robust and less sensitive to outliers than the mean\n",
    "\n",
    "    \n",
    "    \n",
    "        # Filled categorical missing data and turned categories into numbers. \n",
    "        if not pd.api.types.is_numeric_dtype(content):\n",
    "            df[label+\"_is_missing\"] = pd.isnull(content)\n",
    "            df[label] = pd.Categorical(content).codes+1\n",
    "    \n",
    "    return df"
   ]
  },
  {
   "cell_type": "code",
   "execution_count": 132,
   "metadata": {},
   "outputs": [],
   "source": [
    "# Process the test data\n",
    "df_test = preprocess_data(df_test)"
   ]
  },
  {
   "cell_type": "code",
   "execution_count": 133,
   "metadata": {},
   "outputs": [
    {
     "ename": "ValueError",
     "evalue": "Number of features of the model must match the input. Model n_features is 102 and input n_features is 101 ",
     "output_type": "error",
     "traceback": [
      "\u001b[0;31m---------------------------------------------------------------------------\u001b[0m",
      "\u001b[0;31mValueError\u001b[0m                                Traceback (most recent call last)",
      "\u001b[0;32m<ipython-input-133-816969861579>\u001b[0m in \u001b[0;36m<module>\u001b[0;34m\u001b[0m\n\u001b[1;32m      1\u001b[0m \u001b[0;31m# Make predictions on updated test data\u001b[0m\u001b[0;34m\u001b[0m\u001b[0;34m\u001b[0m\u001b[0;34m\u001b[0m\u001b[0m\n\u001b[0;32m----> 2\u001b[0;31m \u001b[0mtest_preds\u001b[0m \u001b[0;34m=\u001b[0m \u001b[0mideal_model\u001b[0m\u001b[0;34m.\u001b[0m\u001b[0mpredict\u001b[0m\u001b[0;34m(\u001b[0m\u001b[0mdf_test\u001b[0m\u001b[0;34m)\u001b[0m\u001b[0;34m\u001b[0m\u001b[0;34m\u001b[0m\u001b[0m\n\u001b[0m",
      "\u001b[0;32m~/Desktop/ml_course/bulldozer-price-prediction-project/env/lib/python3.8/site-packages/sklearn/ensemble/_forest.py\u001b[0m in \u001b[0;36mpredict\u001b[0;34m(self, X)\u001b[0m\n\u001b[1;32m    764\u001b[0m         \u001b[0mcheck_is_fitted\u001b[0m\u001b[0;34m(\u001b[0m\u001b[0mself\u001b[0m\u001b[0;34m)\u001b[0m\u001b[0;34m\u001b[0m\u001b[0;34m\u001b[0m\u001b[0m\n\u001b[1;32m    765\u001b[0m         \u001b[0;31m# Check data\u001b[0m\u001b[0;34m\u001b[0m\u001b[0;34m\u001b[0m\u001b[0;34m\u001b[0m\u001b[0m\n\u001b[0;32m--> 766\u001b[0;31m         \u001b[0mX\u001b[0m \u001b[0;34m=\u001b[0m \u001b[0mself\u001b[0m\u001b[0;34m.\u001b[0m\u001b[0m_validate_X_predict\u001b[0m\u001b[0;34m(\u001b[0m\u001b[0mX\u001b[0m\u001b[0;34m)\u001b[0m\u001b[0;34m\u001b[0m\u001b[0;34m\u001b[0m\u001b[0m\n\u001b[0m\u001b[1;32m    767\u001b[0m \u001b[0;34m\u001b[0m\u001b[0m\n\u001b[1;32m    768\u001b[0m         \u001b[0;31m# Assign chunk of trees to jobs\u001b[0m\u001b[0;34m\u001b[0m\u001b[0;34m\u001b[0m\u001b[0;34m\u001b[0m\u001b[0m\n",
      "\u001b[0;32m~/Desktop/ml_course/bulldozer-price-prediction-project/env/lib/python3.8/site-packages/sklearn/ensemble/_forest.py\u001b[0m in \u001b[0;36m_validate_X_predict\u001b[0;34m(self, X)\u001b[0m\n\u001b[1;32m    410\u001b[0m         \u001b[0mcheck_is_fitted\u001b[0m\u001b[0;34m(\u001b[0m\u001b[0mself\u001b[0m\u001b[0;34m)\u001b[0m\u001b[0;34m\u001b[0m\u001b[0;34m\u001b[0m\u001b[0m\n\u001b[1;32m    411\u001b[0m \u001b[0;34m\u001b[0m\u001b[0m\n\u001b[0;32m--> 412\u001b[0;31m         \u001b[0;32mreturn\u001b[0m \u001b[0mself\u001b[0m\u001b[0;34m.\u001b[0m\u001b[0mestimators_\u001b[0m\u001b[0;34m[\u001b[0m\u001b[0;36m0\u001b[0m\u001b[0;34m]\u001b[0m\u001b[0;34m.\u001b[0m\u001b[0m_validate_X_predict\u001b[0m\u001b[0;34m(\u001b[0m\u001b[0mX\u001b[0m\u001b[0;34m,\u001b[0m \u001b[0mcheck_input\u001b[0m\u001b[0;34m=\u001b[0m\u001b[0;32mTrue\u001b[0m\u001b[0;34m)\u001b[0m\u001b[0;34m\u001b[0m\u001b[0;34m\u001b[0m\u001b[0m\n\u001b[0m\u001b[1;32m    413\u001b[0m \u001b[0;34m\u001b[0m\u001b[0m\n\u001b[1;32m    414\u001b[0m     \u001b[0;34m@\u001b[0m\u001b[0mproperty\u001b[0m\u001b[0;34m\u001b[0m\u001b[0;34m\u001b[0m\u001b[0m\n",
      "\u001b[0;32m~/Desktop/ml_course/bulldozer-price-prediction-project/env/lib/python3.8/site-packages/sklearn/tree/_classes.py\u001b[0m in \u001b[0;36m_validate_X_predict\u001b[0;34m(self, X, check_input)\u001b[0m\n\u001b[1;32m    386\u001b[0m         \u001b[0mn_features\u001b[0m \u001b[0;34m=\u001b[0m \u001b[0mX\u001b[0m\u001b[0;34m.\u001b[0m\u001b[0mshape\u001b[0m\u001b[0;34m[\u001b[0m\u001b[0;36m1\u001b[0m\u001b[0;34m]\u001b[0m\u001b[0;34m\u001b[0m\u001b[0;34m\u001b[0m\u001b[0m\n\u001b[1;32m    387\u001b[0m         \u001b[0;32mif\u001b[0m \u001b[0mself\u001b[0m\u001b[0;34m.\u001b[0m\u001b[0mn_features_\u001b[0m \u001b[0;34m!=\u001b[0m \u001b[0mn_features\u001b[0m\u001b[0;34m:\u001b[0m\u001b[0;34m\u001b[0m\u001b[0;34m\u001b[0m\u001b[0m\n\u001b[0;32m--> 388\u001b[0;31m             raise ValueError(\"Number of features of the model must \"\n\u001b[0m\u001b[1;32m    389\u001b[0m                              \u001b[0;34m\"match the input. Model n_features is %s and \"\u001b[0m\u001b[0;34m\u001b[0m\u001b[0;34m\u001b[0m\u001b[0m\n\u001b[1;32m    390\u001b[0m                              \u001b[0;34m\"input n_features is %s \"\u001b[0m\u001b[0;34m\u001b[0m\u001b[0;34m\u001b[0m\u001b[0m\n",
      "\u001b[0;31mValueError\u001b[0m: Number of features of the model must match the input. Model n_features is 102 and input n_features is 101 "
     ]
    }
   ],
   "source": [
    "# Make predictions on updated test data\n",
    "test_preds = ideal_model.predict(df_test)"
   ]
  },
  {
   "cell_type": "code",
   "execution_count": 134,
   "metadata": {},
   "outputs": [
    {
     "data": {
      "text/plain": [
       "{'auctioneerID_is_missing'}"
      ]
     },
     "execution_count": 134,
     "metadata": {},
     "output_type": "execute_result"
    }
   ],
   "source": [
    "# We can find how the columns differ using sets\n",
    "set(x_train.columns) - set(df_test.columns)"
   ]
  },
  {
   "cell_type": "code",
   "execution_count": 135,
   "metadata": {},
   "outputs": [
    {
     "data": {
      "text/html": [
       "<div>\n",
       "<style scoped>\n",
       "    .dataframe tbody tr th:only-of-type {\n",
       "        vertical-align: middle;\n",
       "    }\n",
       "\n",
       "    .dataframe tbody tr th {\n",
       "        vertical-align: top;\n",
       "    }\n",
       "\n",
       "    .dataframe thead th {\n",
       "        text-align: right;\n",
       "    }\n",
       "</style>\n",
       "<table border=\"1\" class=\"dataframe\">\n",
       "  <thead>\n",
       "    <tr style=\"text-align: right;\">\n",
       "      <th></th>\n",
       "      <th>SalesID</th>\n",
       "      <th>MachineID</th>\n",
       "      <th>ModelID</th>\n",
       "      <th>datasource</th>\n",
       "      <th>auctioneerID</th>\n",
       "      <th>YearMade</th>\n",
       "      <th>MachineHoursCurrentMeter</th>\n",
       "      <th>UsageBand</th>\n",
       "      <th>fiModelDesc</th>\n",
       "      <th>fiBaseModel</th>\n",
       "      <th>...</th>\n",
       "      <th>Stick_Length_is_missing</th>\n",
       "      <th>Thumb_is_missing</th>\n",
       "      <th>Pattern_Changer_is_missing</th>\n",
       "      <th>Grouser_Type_is_missing</th>\n",
       "      <th>Backhoe_Mounting_is_missing</th>\n",
       "      <th>Blade_Type_is_missing</th>\n",
       "      <th>Travel_Controls_is_missing</th>\n",
       "      <th>Differential_Type_is_missing</th>\n",
       "      <th>Steering_Controls_is_missing</th>\n",
       "      <th>auctioneerID_is_missing</th>\n",
       "    </tr>\n",
       "  </thead>\n",
       "  <tbody>\n",
       "    <tr>\n",
       "      <th>0</th>\n",
       "      <td>1227829</td>\n",
       "      <td>1006309</td>\n",
       "      <td>3168</td>\n",
       "      <td>121</td>\n",
       "      <td>3</td>\n",
       "      <td>1999</td>\n",
       "      <td>3688.0</td>\n",
       "      <td>2</td>\n",
       "      <td>499</td>\n",
       "      <td>180</td>\n",
       "      <td>...</td>\n",
       "      <td>True</td>\n",
       "      <td>True</td>\n",
       "      <td>True</td>\n",
       "      <td>True</td>\n",
       "      <td>True</td>\n",
       "      <td>True</td>\n",
       "      <td>True</td>\n",
       "      <td>True</td>\n",
       "      <td>True</td>\n",
       "      <td>False</td>\n",
       "    </tr>\n",
       "    <tr>\n",
       "      <th>1</th>\n",
       "      <td>1227844</td>\n",
       "      <td>1022817</td>\n",
       "      <td>7271</td>\n",
       "      <td>121</td>\n",
       "      <td>3</td>\n",
       "      <td>1000</td>\n",
       "      <td>28555.0</td>\n",
       "      <td>1</td>\n",
       "      <td>831</td>\n",
       "      <td>292</td>\n",
       "      <td>...</td>\n",
       "      <td>True</td>\n",
       "      <td>True</td>\n",
       "      <td>True</td>\n",
       "      <td>True</td>\n",
       "      <td>True</td>\n",
       "      <td>True</td>\n",
       "      <td>True</td>\n",
       "      <td>False</td>\n",
       "      <td>False</td>\n",
       "      <td>False</td>\n",
       "    </tr>\n",
       "    <tr>\n",
       "      <th>2</th>\n",
       "      <td>1227847</td>\n",
       "      <td>1031560</td>\n",
       "      <td>22805</td>\n",
       "      <td>121</td>\n",
       "      <td>3</td>\n",
       "      <td>2004</td>\n",
       "      <td>6038.0</td>\n",
       "      <td>3</td>\n",
       "      <td>1177</td>\n",
       "      <td>404</td>\n",
       "      <td>...</td>\n",
       "      <td>False</td>\n",
       "      <td>False</td>\n",
       "      <td>False</td>\n",
       "      <td>False</td>\n",
       "      <td>True</td>\n",
       "      <td>True</td>\n",
       "      <td>True</td>\n",
       "      <td>True</td>\n",
       "      <td>True</td>\n",
       "      <td>False</td>\n",
       "    </tr>\n",
       "    <tr>\n",
       "      <th>3</th>\n",
       "      <td>1227848</td>\n",
       "      <td>56204</td>\n",
       "      <td>1269</td>\n",
       "      <td>121</td>\n",
       "      <td>3</td>\n",
       "      <td>2006</td>\n",
       "      <td>8940.0</td>\n",
       "      <td>1</td>\n",
       "      <td>287</td>\n",
       "      <td>113</td>\n",
       "      <td>...</td>\n",
       "      <td>False</td>\n",
       "      <td>False</td>\n",
       "      <td>False</td>\n",
       "      <td>False</td>\n",
       "      <td>True</td>\n",
       "      <td>True</td>\n",
       "      <td>True</td>\n",
       "      <td>True</td>\n",
       "      <td>True</td>\n",
       "      <td>False</td>\n",
       "    </tr>\n",
       "    <tr>\n",
       "      <th>4</th>\n",
       "      <td>1227863</td>\n",
       "      <td>1053887</td>\n",
       "      <td>22312</td>\n",
       "      <td>121</td>\n",
       "      <td>3</td>\n",
       "      <td>2005</td>\n",
       "      <td>2286.0</td>\n",
       "      <td>2</td>\n",
       "      <td>566</td>\n",
       "      <td>196</td>\n",
       "      <td>...</td>\n",
       "      <td>True</td>\n",
       "      <td>True</td>\n",
       "      <td>True</td>\n",
       "      <td>True</td>\n",
       "      <td>False</td>\n",
       "      <td>False</td>\n",
       "      <td>False</td>\n",
       "      <td>True</td>\n",
       "      <td>True</td>\n",
       "      <td>False</td>\n",
       "    </tr>\n",
       "  </tbody>\n",
       "</table>\n",
       "<p>5 rows × 102 columns</p>\n",
       "</div>"
      ],
      "text/plain": [
       "   SalesID  MachineID  ModelID  datasource  auctioneerID  YearMade  \\\n",
       "0  1227829    1006309     3168         121             3      1999   \n",
       "1  1227844    1022817     7271         121             3      1000   \n",
       "2  1227847    1031560    22805         121             3      2004   \n",
       "3  1227848      56204     1269         121             3      2006   \n",
       "4  1227863    1053887    22312         121             3      2005   \n",
       "\n",
       "   MachineHoursCurrentMeter  UsageBand  fiModelDesc  fiBaseModel  ...  \\\n",
       "0                    3688.0          2          499          180  ...   \n",
       "1                   28555.0          1          831          292  ...   \n",
       "2                    6038.0          3         1177          404  ...   \n",
       "3                    8940.0          1          287          113  ...   \n",
       "4                    2286.0          2          566          196  ...   \n",
       "\n",
       "   Stick_Length_is_missing  Thumb_is_missing  Pattern_Changer_is_missing  \\\n",
       "0                     True              True                        True   \n",
       "1                     True              True                        True   \n",
       "2                    False             False                       False   \n",
       "3                    False             False                       False   \n",
       "4                     True              True                        True   \n",
       "\n",
       "   Grouser_Type_is_missing  Backhoe_Mounting_is_missing  \\\n",
       "0                     True                         True   \n",
       "1                     True                         True   \n",
       "2                    False                         True   \n",
       "3                    False                         True   \n",
       "4                     True                        False   \n",
       "\n",
       "   Blade_Type_is_missing  Travel_Controls_is_missing  \\\n",
       "0                   True                        True   \n",
       "1                   True                        True   \n",
       "2                   True                        True   \n",
       "3                   True                        True   \n",
       "4                  False                       False   \n",
       "\n",
       "   Differential_Type_is_missing  Steering_Controls_is_missing  \\\n",
       "0                          True                          True   \n",
       "1                         False                         False   \n",
       "2                          True                          True   \n",
       "3                          True                          True   \n",
       "4                          True                          True   \n",
       "\n",
       "   auctioneerID_is_missing  \n",
       "0                    False  \n",
       "1                    False  \n",
       "2                    False  \n",
       "3                    False  \n",
       "4                    False  \n",
       "\n",
       "[5 rows x 102 columns]"
      ]
     },
     "execution_count": 135,
     "metadata": {},
     "output_type": "execute_result"
    }
   ],
   "source": [
    "# Manually adjust df_test to have auctioneerID_is_missing column\n",
    "df_test[\"auctioneerID_is_missing\"] = False\n",
    "df_test.head()"
   ]
  },
  {
   "cell_type": "markdown",
   "metadata": {},
   "source": [
    "Finally now our test dataframe has the same features as our training dataframe, we can make predictions"
   ]
  },
  {
   "cell_type": "code",
   "execution_count": 136,
   "metadata": {},
   "outputs": [],
   "source": [
    "# Make predictions on updated test data\n",
    "test_preds = ideal_model.predict(df_test)"
   ]
  },
  {
   "cell_type": "code",
   "execution_count": 137,
   "metadata": {},
   "outputs": [
    {
     "data": {
      "text/plain": [
       "array([21039.47333266, 20461.64710062, 49930.02444969, ...,\n",
       "       15298.90522081, 17988.61916567, 30027.31261681])"
      ]
     },
     "execution_count": 137,
     "metadata": {},
     "output_type": "execute_result"
    }
   ],
   "source": [
    "test_preds"
   ]
  },
  {
   "cell_type": "code",
   "execution_count": 138,
   "metadata": {},
   "outputs": [
    {
     "data": {
      "text/html": [
       "<div>\n",
       "<style scoped>\n",
       "    .dataframe tbody tr th:only-of-type {\n",
       "        vertical-align: middle;\n",
       "    }\n",
       "\n",
       "    .dataframe tbody tr th {\n",
       "        vertical-align: top;\n",
       "    }\n",
       "\n",
       "    .dataframe thead th {\n",
       "        text-align: right;\n",
       "    }\n",
       "</style>\n",
       "<table border=\"1\" class=\"dataframe\">\n",
       "  <thead>\n",
       "    <tr style=\"text-align: right;\">\n",
       "      <th></th>\n",
       "      <th>SalesID</th>\n",
       "      <th>SalesPrices</th>\n",
       "    </tr>\n",
       "  </thead>\n",
       "  <tbody>\n",
       "    <tr>\n",
       "      <th>0</th>\n",
       "      <td>1227829</td>\n",
       "      <td>21039.473333</td>\n",
       "    </tr>\n",
       "    <tr>\n",
       "      <th>1</th>\n",
       "      <td>1227844</td>\n",
       "      <td>20461.647101</td>\n",
       "    </tr>\n",
       "    <tr>\n",
       "      <th>2</th>\n",
       "      <td>1227847</td>\n",
       "      <td>49930.024450</td>\n",
       "    </tr>\n",
       "    <tr>\n",
       "      <th>3</th>\n",
       "      <td>1227848</td>\n",
       "      <td>58757.651595</td>\n",
       "    </tr>\n",
       "    <tr>\n",
       "      <th>4</th>\n",
       "      <td>1227863</td>\n",
       "      <td>54412.604057</td>\n",
       "    </tr>\n",
       "    <tr>\n",
       "      <th>...</th>\n",
       "      <td>...</td>\n",
       "      <td>...</td>\n",
       "    </tr>\n",
       "    <tr>\n",
       "      <th>12452</th>\n",
       "      <td>6643171</td>\n",
       "      <td>44659.093028</td>\n",
       "    </tr>\n",
       "    <tr>\n",
       "      <th>12453</th>\n",
       "      <td>6643173</td>\n",
       "      <td>15847.623624</td>\n",
       "    </tr>\n",
       "    <tr>\n",
       "      <th>12454</th>\n",
       "      <td>6643184</td>\n",
       "      <td>15298.905221</td>\n",
       "    </tr>\n",
       "    <tr>\n",
       "      <th>12455</th>\n",
       "      <td>6643186</td>\n",
       "      <td>17988.619166</td>\n",
       "    </tr>\n",
       "    <tr>\n",
       "      <th>12456</th>\n",
       "      <td>6643196</td>\n",
       "      <td>30027.312617</td>\n",
       "    </tr>\n",
       "  </tbody>\n",
       "</table>\n",
       "<p>12457 rows × 2 columns</p>\n",
       "</div>"
      ],
      "text/plain": [
       "       SalesID   SalesPrices\n",
       "0      1227829  21039.473333\n",
       "1      1227844  20461.647101\n",
       "2      1227847  49930.024450\n",
       "3      1227848  58757.651595\n",
       "4      1227863  54412.604057\n",
       "...        ...           ...\n",
       "12452  6643171  44659.093028\n",
       "12453  6643173  15847.623624\n",
       "12454  6643184  15298.905221\n",
       "12455  6643186  17988.619166\n",
       "12456  6643196  30027.312617\n",
       "\n",
       "[12457 rows x 2 columns]"
      ]
     },
     "execution_count": 138,
     "metadata": {},
     "output_type": "execute_result"
    }
   ],
   "source": [
    "# Format prediction into the same format Kaggle is after\n",
    "df_preds = pd.DataFrame()\n",
    "\n",
    "df_preds[\"SalesID\"] = df_test[\"SalesID\"]\n",
    "df_preds[\"SalesPrices\"] = test_preds\n",
    "df_preds"
   ]
  },
  {
   "cell_type": "code",
   "execution_count": 139,
   "metadata": {},
   "outputs": [],
   "source": [
    "# Export prediction data\n",
    "df_preds.to_csv(\"data/bluebook-for-bulldozers/test_predictions.csv\", index=False)"
   ]
  },
  {
   "cell_type": "markdown",
   "metadata": {},
   "source": [
    "### Feature Importance\n",
    "\n",
    "Feature importance seeks to figure out which different attributes of the data were most important when it comes to predicting the target variable (SalePrice)"
   ]
  },
  {
   "cell_type": "code",
   "execution_count": 140,
   "metadata": {},
   "outputs": [
    {
     "data": {
      "text/plain": [
       "array([3.38200361e-02, 1.53192860e-02, 4.62479327e-02, 1.93575471e-03,\n",
       "       3.30927551e-03, 2.09829659e-01, 3.12157050e-03, 1.07805808e-03,\n",
       "       4.86833140e-02, 4.45121589e-02, 6.44809164e-02, 4.72742894e-03,\n",
       "       1.32220813e-02, 1.57602962e-01, 4.18885603e-02, 5.96816740e-03,\n",
       "       4.56209149e-03, 2.00276613e-03, 3.04954584e-03, 5.14893087e-02,\n",
       "       6.01778696e-04, 3.77980802e-05, 8.08922793e-04, 4.96277688e-04,\n",
       "       1.28838491e-03, 2.28689502e-05, 2.04934865e-03, 1.29385534e-02,\n",
       "       2.75256264e-04, 2.04089705e-03, 2.49065579e-03, 2.44531007e-03,\n",
       "       3.23444325e-03, 4.20601245e-04, 2.36377315e-04, 6.62339614e-03,\n",
       "       1.08797409e-03, 1.16926633e-02, 7.24148425e-04, 2.34580804e-03,\n",
       "       8.81263574e-04, 9.82440979e-04, 1.11713328e-03, 5.47625293e-04,\n",
       "       4.80847847e-04, 3.73939625e-04, 2.25060792e-04, 2.16623318e-03,\n",
       "       9.73790636e-04, 1.96204821e-04, 2.55719751e-04, 7.31841931e-02,\n",
       "       3.79003854e-03, 5.63555832e-03, 2.92452265e-03, 9.98056295e-03,\n",
       "       2.45388610e-04, 1.52553724e-03, 3.48343759e-04, 0.00000000e+00,\n",
       "       0.00000000e+00, 2.29567813e-03, 1.25394810e-03, 7.58046408e-03,\n",
       "       3.73223579e-02, 0.00000000e+00, 0.00000000e+00, 0.00000000e+00,\n",
       "       0.00000000e+00, 3.30686103e-05, 7.24990670e-06, 2.42665654e-04,\n",
       "       4.68709574e-06, 1.74709488e-04, 3.23383198e-06, 9.52394394e-05,\n",
       "       3.36529345e-05, 2.06628775e-03, 1.25687491e-05, 1.97554506e-03,\n",
       "       1.99218119e-03, 3.87853249e-03, 1.18176365e-03, 1.63050590e-03,\n",
       "       3.31630067e-03, 6.22627563e-04, 2.43748542e-03, 2.21125876e-04,\n",
       "       1.24269616e-02, 1.49263723e-03, 1.64922560e-03, 4.38543940e-05,\n",
       "       6.40076678e-05, 5.15457992e-05, 6.48207835e-05, 4.84120886e-05,\n",
       "       1.12906114e-04, 6.55393764e-04, 8.03725962e-05, 8.56590664e-05,\n",
       "       1.00385962e-04, 1.95195238e-04])"
      ]
     },
     "execution_count": 140,
     "metadata": {},
     "output_type": "execute_result"
    }
   ],
   "source": [
    "# Find feature importance of our best model \n",
    "ideal_model.feature_importances_"
   ]
  },
  {
   "cell_type": "code",
   "execution_count": 146,
   "metadata": {},
   "outputs": [],
   "source": [
    "# helper function fo plotting feature importance\n",
    "def plot_features(columns, importances, n=20):\n",
    "    df = (pd.DataFrame({\"features\": columns, \n",
    "                       \"feature_importances\": importances})\n",
    "         .sort_values(\"feature_importances\", ascending=False)\n",
    "         .reset_index(drop=True))\n",
    "    \n",
    "    # Plot the dataframe\n",
    "    fix, ax = plt.subplots()\n",
    "    ax.barh(df[\"features\"][:n], df[\"feature_importances\"][:n])\n",
    "    ax.set_ylabel(\"Features\")\n",
    "    ax.set_xlabel(\"Feature Immportance\")\n",
    "    ax.invert_yaxis()"
   ]
  },
  {
   "cell_type": "code",
   "execution_count": 147,
   "metadata": {},
   "outputs": [
    {
     "data": {
      "image/png": "[encoded data removed]",
      "text/plain": [
       "<Figure size 432x288 with 1 Axes>"
      ]
     },
     "metadata": {
      "needs_background": "light"
     },
     "output_type": "display_data"
    }
   ],
   "source": [
    "plot_features(x_train.columns, ideal_model.feature_importances_)"
   ]
  },
  {
   "cell_type": "markdown",
   "metadata": {},
   "source": [
    "**Questions to finish:** WJy might knowing the feature importances of a trained machine learnign model be helpful?"
   ]
  },
  {
   "cell_type": "code",
   "execution_count": null,
   "metadata": {},
   "outputs": [],
   "source": []
  }
 ],
 "metadata": {
  "kernelspec": {
   "display_name": "Python 3",
   "language": "python",
   "name": "python3"
  },
  "language_info": {
   "codemirror_mode": {
    "name": "ipython",
    "version": 3
   },
   "file_extension": ".py",
   "mimetype": "text/x-python",
   "name": "python",
   "nbconvert_exporter": "python",
   "pygments_lexer": "ipython3",
   "version": "3.8.2"
  }
 },
 "nbformat": 4,
 "nbformat_minor": 4
}
